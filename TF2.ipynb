{
 "metadata": {
  "language_info": {
   "codemirror_mode": {
    "name": "ipython",
    "version": 3
   },
   "file_extension": ".py",
   "mimetype": "text/x-python",
   "name": "python",
   "nbconvert_exporter": "python",
   "pygments_lexer": "ipython3",
   "version": "3.6.8"
  },
  "orig_nbformat": 2,
  "kernelspec": {
   "name": "python3",
   "display_name": "Python 3.6.8 64-bit"
  },
  "metadata": {
   "interpreter": {
    "hash": "9b67406d7fbb2af7015a14466850ddc26f8561b13d5c8d3cb28b20678c0b271e"
   }
  },
  "interpreter": {
   "hash": "a5687f38dddcc86689e1243e8b1a26a26f1b21a2367c8b1dffc32c2c382bbed1"
  }
 },
 "nbformat": 4,
 "nbformat_minor": 2,
 "cells": [
  {
   "cell_type": "markdown",
   "source": [
    "<center><img src=\"http://www.exalumnos.usm.cl/wp-content/uploads/2015/06/Isotipo-Negro.gif\" title=\"Title text\" width=\"30%\" /></center>\r\n",
    "\r\n",
    "<hr style=\"height:2px;border:none\"/>\r\n",
    "<h1 align='center'> ELI-349 Operación de Sistemas Eléctricos de Potencia </h1>\r\n",
    "\r\n",
    "<h2 align='center'><b>Tarea Final: LOLIN-OPF</b></h2>\r\n",
    "<h3 align='center'>Preparado por Miguel Huerta</h3>\r\n",
    "\r\n",
    "\r\n",
    "\r\n",
    "<hr style=\"height:2px;border:none\"/>\r\n"
   ],
   "metadata": {}
  },
  {
   "cell_type": "code",
   "execution_count": 1,
   "source": [
    "import os, getpass\r\n",
    "from platform import python_version\r\n",
    "try: \r\n",
    "  cwd = os.getcwd()\r\n",
    "  ls  = os.listdir(\"C:\\\\\")\r\n",
    "  for gu in ls: \r\n",
    "    if 'gurobi' in gu: \r\n",
    "      os.chdir(\"C:\\\\\"+gu+'\\win64\\python'+python_version()[:-2].replace('.','')+'\\lib\\gurobipy')\r\n",
    "      import gurobipy as gp\r\n",
    "      from gurobipy import GRB\r\n",
    "  os.chdir(cwd)\r\n",
    "except:\r\n",
    "  pass\r\n",
    "\r\n",
    "from time import time\r\n",
    "import numpy as np\r\n",
    "import matplotlib.pyplot as plt\r\n",
    "import matplotlib.gridspec as gridspec\r\n",
    "from numpy import flatnonzero as find\r\n",
    "from scipy.sparse import csr_matrix as sparse\r\n",
    "jj=np.sqrt(-1, dtype=complex)\r\n",
    "\r\n",
    "def table(data, nx, ny, unit='(MW)', typeE='P'):\r\n",
    "    print((\"{:>4s}\".format('t(h)')+\" {:>13s}\"*nx).format(*[typeE+str(k+1)+unit for k in range(nx)]))\r\n",
    "    for k in range(ny):\r\n",
    "        print((\"{:>4d}\".format(k)+\" {:>13.3f}\"*nx).format(*data[:,k]))\r\n",
    "    print()"
   ],
   "outputs": [],
   "metadata": {}
  },
  {
   "cell_type": "markdown",
   "source": [
    "Archivos suminstrados\r\n",
    "- case39.pycase39.py\r\n",
    "- Data SEP.xlsData SEP.xls\r\n",
    "- Tarea 2021.pdfTarea 2021.pdf\r\n",
    "- Valle de los vientos.txtValle de los vientos.txt\r\n",
    "\r\n",
    "## Parte 1\r\n",
    "Desarrolle la formulación matemática del problema del UC aplicado al siguiente sistema de \r\n",
    "potencia considerando la temática que su grupo eligió. Note que en el SEP se han incluido los \r\n",
    "datos del sistema de transmisión en p.u. y el límite térmico de cada línea (MVA). En la figura \r\n",
    "también se muestra los valores de demanda en MVA de la hora t. Las cargas tienen un factor de \r\n",
    "potencia de 0.9 inductivo. Para la formulación DC la demanda aproxime a MW, es decir factor \r\n",
    "de potencia de 1. Modele un horizonte de 3 horas, donde la demanda para la segunda hora es \r\n",
    "el 80% y para la tercera hora es del 50% de la demanda.\r\n",
    "\r\n",
    "<center><img src=\"FIgs\\1.PNG\" title=\"Title text\" width=\"30%\" /></center>"
   ],
   "metadata": {}
  },
  {
   "cell_type": "code",
   "execution_count": 2,
   "source": [
    "## Loads\r\n",
    "kLoad = [1, .8, .5]                    # Escala de potencia en horizonte de simulación\r\n",
    "PF    = [0.9, 1.0]                     # Factores de potencia ante las situaciones a simular\r\n",
    "Load  = np.array([[3, 100],[4, 200]])  # Magnitud de potencia en barra j\r\n",
    "nh    = len(kLoad)\r\n",
    "\r\n",
    "## Lines\r\n",
    "Aux = np.eye(2)-np.flipud(np.eye(2))\r\n",
    "LineProp = np.array([[1, 2, 0.08, 0.10, 100],\r\n",
    "                     [1, 3, 0.05, 0.10,  80],\r\n",
    "                     [2, 3, 0.05, 0.30, 100],\r\n",
    "                     [2, 4, 0.04, 0.15, 100],\r\n",
    "                     [3, 4, 0.07, 0.15, 100],]) # no hay susceptancia\r\n",
    "nl = LineProp.shape[0]\r\n",
    "zline = LineProp[:, 2]+jj*LineProp[:, 3]\r\n",
    "yline = 1/zline\r\n",
    "shap = len(np.unique(LineProp[:,:2]))\r\n",
    "Ybus = np.zeros([shap,shap], dtype=complex)\r\n",
    "for num, k in enumerate(LineProp[:,:2].astype(int)):\r\n",
    "    Ybus[np.ix_(k-1 ,k-1 )] += Aux*yline[num]\r\n",
    "print(np.around(Ybus,3))"
   ],
   "outputs": [
    {
     "output_type": "stream",
     "name": "stdout",
     "text": [
      "[[ 8.878-14.098j -4.878 +6.098j -4.    +8.j     0.    +0.j   ]\n",
      " [-4.878 +6.098j  7.078-15.565j -0.541 +3.243j -1.66  +6.224j]\n",
      " [-4.    +8.j    -0.541 +3.243j  7.095-16.718j -2.555 +5.474j]\n",
      " [ 0.    +0.j    -1.66  +6.224j -2.555 +5.474j  4.214-11.699j]]\n"
     ]
    }
   ],
   "metadata": {}
  },
  {
   "cell_type": "markdown",
   "source": [
    "Los datos técnico-económicos del sistema de generación son los siguientes:\r\n",
    "\r\n",
    "\r\n",
    "$$\\begin{array}{|c|cccc|}\\hline\r\n",
    " & 1& 2& 3& 4 \\\\\\hline\r\n",
    "P_{max}, MW  & 100& 120& 150& 100\\\\\r\n",
    "P_{min}, MW  &  10&  50&  40&  10\\\\\r\n",
    "CVP~\\$/MWh      &  60& 100& 190&  90\\\\\r\n",
    "Q_{max}, Mvar&-100&-100&-100&-100\\\\\r\n",
    "Q_{min}, Mvar& 100& 100&  50&  50\\\\\r\n",
    "\\hline\\end{array}$$\r\n",
    "\r\n",
    "- En este problema inicial no se consideran los costos de encendido y las restricciones de \r\n",
    "acoplamiento temporal de generación (tiempos mínimos y rampas).\r\n",
    "- Modele los generadores virtuales (energía no suministrada). Para modelar la pérdida de carga \r\n",
    "utilice la demanda máxima de la barra y un costo de 500 $/MWh.\r\n",
    "- Justifique en el caso que requiera algún parámetro adicional"
   ],
   "metadata": {}
  },
  {
   "cell_type": "code",
   "execution_count": 52,
   "source": [
    "## Generator       bus  Pmax Pmin  Qmax Qmin  Costes Lineales\r\n",
    "GenProp = np.array([[1,  100,  10, 100, 100,  60],\r\n",
    "                    [2,  120,  50, 100, 100, 100],\r\n",
    "                    [2,  150,  40, 100,  50, 190],\r\n",
    "                    [4,  100,  10, 100,  50,  90],])\r\n",
    "\r\n",
    "# Equipos Viertuales donde hay carga\r\n",
    "GenProp = np.vstack([GenProp,\r\n",
    "          np.hstack([Load,np.zeros([Load.shape[1],1]),Load[:,1].reshape(-1,1),np.zeros([Load.shape[1],1]), np.ones([Load.shape[1],1])*500])\r\n",
    "])\r\n",
    "ng = GenProp.shape[0]\r\n",
    "\r\n",
    "GenProp"
   ],
   "outputs": [
    {
     "output_type": "execute_result",
     "data": {
      "text/plain": [
       "array([[  1., 100.,  10., 100., 100.,  60.],\n",
       "       [  2., 120.,  50., 100., 100., 100.],\n",
       "       [  2., 150.,  40., 100.,  50., 190.],\n",
       "       [  4., 100.,  10., 100.,  50.,  90.],\n",
       "       [  3., 100.,   0., 100.,   0., 500.],\n",
       "       [  4., 200.,   0., 200.,   0., 500.]])"
      ]
     },
     "metadata": {},
     "execution_count": 52
    }
   ],
   "metadata": {}
  },
  {
   "cell_type": "markdown",
   "source": [
    "## Unit Commitment: Predespacho de la generación térmica"
   ],
   "metadata": {}
  },
  {
   "cell_type": "code",
   "execution_count": 68,
   "source": [
    "try:\r\n",
    "  t0 = time()\r\n",
    "  m = gp.Model(\"Unit Commitment\")\r\n",
    "  m.Params.OutputFlag = 0\r\n",
    "  m.Params.Method = -1\r\n",
    "  m.Params.MIPGap = 1e-6\r\n",
    "\r\n",
    "  # Variable de decisión\r\n",
    "  binary = m.addMVar(shape=(ng,nh),   vtype=GRB.BINARY,     name='B')\r\n",
    "  Pgen   = m.addMVar(shape=(ng,nh),   vtype=GRB.CONTINUOUS, name='P')\r\n",
    "\r\n",
    "  m.update()\r\n",
    "  \r\n",
    "  # Función de coste\r\n",
    "  m.setObjective(sum([GenProp[:,5]@Pgen[:,h] for h in range(nh)]), GRB.MINIMIZE)\r\n",
    "  m.update()\r\n",
    "  \r\n",
    "  for h in range(nh): \r\n",
    "    # Restricción de balance\r\n",
    "    m.addConstr( Pgen[:,h].sum()==Load[:,-1].sum()*kLoad[h]*PF[0], name=\"Balace_\"+str(h+1))\r\n",
    "\r\n",
    "    # Restricciones de generación \r\n",
    "    m.addConstr( Pgen[:,h]>= np.diag(GenProp[:,2])@binary[:,h], name=\"P_min\"+str(h+1))\r\n",
    "    m.addConstr(-Pgen[:,h]>=-np.diag(GenProp[:,1])@binary[:,h], name=\"P_max\"+str(h+1))\r\n",
    "    \r\n",
    "    # Restricciones de energia no suministrada\r\n",
    "    \r\n",
    "    \r\n",
    "  m.update()\r\n",
    "  t1 = time()\r\n",
    "  m.optimize()\r\n",
    "  t2 = time()\r\n",
    "  print('FO: ',np.float32(m.objVal))\r\n",
    "  print('Tiempo Formulación: {:10.5f}ms'.format((t1-t0)*1e3))\r\n",
    "  print('Tiempo Resolución:  {:10.5f}ms'.format((t2-t1)*1e3))\r\n",
    "  \r\n",
    "  \r\n",
    "except gp.GurobiError as e:\r\n",
    "  print('Error code ' + str(e.errno) + ': ' + str(e))\r\n",
    "\r\n",
    "except AttributeError:\r\n",
    "  print('Encountered an attribute error')"
   ],
   "outputs": [
    {
     "output_type": "stream",
     "name": "stdout",
     "text": [
      "FO:  48090.0\n",
      "Tiempo Formulación:   18.97454ms\n",
      "Tiempo Resolución:     6.98471ms\n"
     ]
    }
   ],
   "metadata": {}
  },
  {
   "cell_type": "code",
   "execution_count": 70,
   "source": [
    "table(Pgen.x, ng, nh) # P5 y P6 son equipos virtuales en las barras 3 y 4 (barras con demanda)"
   ],
   "outputs": [
    {
     "output_type": "stream",
     "name": "stdout",
     "text": [
      "t(h)        P1(MW)        P2(MW)        P3(MW)        P4(MW)        P5(MW)        P6(MW)\n",
      "   0       100.000        70.000         0.000       100.000         0.000         0.000\n",
      "   1       100.000        50.000         0.000        66.000         0.000         0.000\n",
      "   2       100.000         0.000         0.000        35.000         0.000         0.000\n",
      "\n"
     ]
    }
   ],
   "metadata": {}
  },
  {
   "cell_type": "markdown",
   "source": [
    "## LOLIN\r\n",
    "En base a los datos, se redefinen en función a antiguas implementaciones"
   ],
   "metadata": {}
  },
  {
   "cell_type": "code",
   "execution_count": 145,
   "source": [
    "Sb = 100\r\n",
    "a  = np.zeros(GenProp[:,5].shape)\r\n",
    "b  = GenProp[:,5]\r\n",
    "c  = np.zeros(GenProp[:,5].shape)\r\n",
    "idxSL=0 # barra 1\r\n",
    "\r\n",
    "a1  = np.zeros(GenProp[:,5].shape)\r\n",
    "b1  = np.hstack([np.zeros(GenProp[:,5].shape[0]-Load.shape[1]),GenProp[-Load.shape[1]:,5]])\r\n",
    "c1  = np.zeros(GenProp[:,5].shape)\r\n",
    "\r\n",
    "# Generation\r\n",
    "PGmax = GenProp[:,1]/Sb\r\n",
    "PGmin = GenProp[:,2]/Sb\r\n",
    "QGmax = GenProp[:,3]/Sb\r\n",
    "QGmin = GenProp[:,4]/Sb\r\n",
    "\r\n",
    "# Demand \r\n",
    "PD = Load[:,1]*PF[0]/Sb\r\n",
    "QD = Load[:,1]*np.arccos(PF[0])/Sb\r\n",
    "PD = np.hstack([np.zeros(2),PD])\r\n",
    "QD = np.hstack([np.zeros(2),QD])\r\n",
    "\r\n",
    "# Lines\r\n",
    "LineProp[:,0]\r\n",
    "fbus = LineProp[:,0].astype(int)-1\r\n",
    "tbus = LineProp[:,1].astype(int)-1\r\n",
    "Rpu  = LineProp[:,2]\r\n",
    "Xpu  = LineProp[:,3]\r\n",
    "nb   = int(LineProp[:,0:2].astype(int).max())\r\n",
    "Gpu  = np.zeros(nb)\r\n",
    "Bpu  = np.zeros(nb)\r\n",
    "bpu  = LineProp[:,0]*0\r\n",
    "\r\n",
    "# Transformator\r\n",
    "tap    = np.ones(nl)\r\n",
    "tapAng = np.zeros(nl)\r\n",
    "\r\n",
    "# # Bus\r\n",
    "Vmax = np.ones(nb)*1.05\r\n",
    "Vmin = np.ones(nb)*0.95\r\n",
    "thetamin = np.ones(nb)*(-np.pi)\r\n",
    "thetamax = np.ones(nb)*( np.pi)\r\n",
    "\r\n",
    "yprim = np.diag(1/(Rpu+jj*Xpu))\r\n",
    "Yshunt = np.diag(Gpu+jj*Bpu)\r\n",
    "bl = jj*bpu\r\n",
    "\r\n",
    "## Potencia maxima lineas\r\n",
    "s = LineProp[:,4]/Sb\r\n",
    "s[np.where(s==0)]=GRB.INFINITY\r\n",
    "\r\n",
    "# Matriz de incidencia\r\n",
    "Cg = sparse((np.ones(ng), (GenProp[:,0]-1, range(ng))), (nb, ng)).toarray().astype(int)\r\n",
    "I = np.r_[range(nl), range(nl)]\r\n",
    "Cbr = sparse((np.r_[np.ones(nl), -np.ones(nl)], (I, np.r_[fbus, tbus])), (nl,nb)).toarray().astype(int)\r\n",
    "Cf  = sparse((np.r_[np.ones(nl), np.zeros(nl)], (I, np.r_[fbus, tbus])), (nl,nb)).toarray().astype(int)\r\n",
    "Ct  = sparse((np.r_[np.zeros(nl), np.ones(nl)], (I, np.r_[fbus, tbus])), (nl,nb)).toarray().astype(int)\r\n",
    "\r\n",
    "tapMff = np.diag(1/(tap*np.exp(tapAng)))\r\n",
    "tapMft = np.diag(1/(tap**2))\r\n",
    "tapMtf = np.diag(1/(tap*np.exp(-tapAng)))\r\n",
    "\r\n",
    "yff  = (yprim+np.diag(bl/2))*tapMff\r\n",
    "ytt  = yprim+np.diag(bl/2)\r\n",
    "yffp = yprim*tapMft\r\n",
    "yttp = yprim*tapMtf\r\n",
    "yft  = -yprim*tapMft\r\n",
    "ytf  = -yprim*tapMtf\r\n",
    "\r\n",
    "Yf  = yff@Cf+yft@Ct\r\n",
    "Yt  = ytf@Cf+ytt@Ct\r\n",
    "Yfp = yffp@Cf+yft@Ct\r\n",
    "Ytp = ytf@Cf+yttp@Ct\r\n",
    "Yb  = Cf.T@Yf+Ct.T@Yt + Yshunt\r\n",
    "Ybp = Cf.T@Yfp+Ct.T@Ytp\r\n",
    "\r\n",
    "Aq = np.diag([np.sqrt(2)-1]*nl)\r\n",
    "gx  = np.real(yprim)\r\n",
    "bx  = -np.imag(yprim)"
   ],
   "outputs": [
    {
     "output_type": "execute_result",
     "data": {
      "text/plain": [
       "array([  0.,   0.,   0.,   0., 500., 500.])"
      ]
     },
     "metadata": {},
     "execution_count": 145
    }
   ],
   "metadata": {}
  },
  {
   "cell_type": "code",
   "execution_count": 157,
   "source": [
    "k1 = 0.025\r\n",
    "k2 = 0.01\r\n",
    "try:  \r\n",
    "  t0 = time()\r\n",
    "  m = gp.Model(\"LOLIN\")\r\n",
    "  m.Params.OutputFlag = 0\r\n",
    "  m.Params.Method = -1\r\n",
    "  m.Params.MIPGap = 1e-6\r\n",
    "\r\n",
    "  # VARIABLE DEFINITIONS\r\n",
    "  Pgen  = m.addMVar((ng,nh), vtype=GRB.CONTINUOUS, name='Pg')\r\n",
    "  Qgen  = m.addMVar((ng,nh), vtype=GRB.CONTINUOUS, name='Qg')\r\n",
    "  Pf    = m.addMVar((nl,nh), vtype=GRB.CONTINUOUS, name='Pf')\r\n",
    "  Qf    = m.addMVar((nl,nh), vtype=GRB.CONTINUOUS, name='Qf')\r\n",
    "  P_lt  = m.addMVar((nl,nh), vtype=GRB.CONTINUOUS, name='P_lt')\r\n",
    "  P_lv  = m.addMVar((nl,nh), vtype=GRB.CONTINUOUS, name='P_lv')\r\n",
    "  Q_lt  = m.addMVar((nl,nh), vtype=GRB.CONTINUOUS, name='Q_lt')\r\n",
    "  Q_lv  = m.addMVar((nl,nh), vtype=GRB.CONTINUOUS, name='Q_lv')\r\n",
    "  V     = m.addMVar((nb,nh), vtype=GRB.CONTINUOUS, name='V')\r\n",
    "  theta = m.addMVar((nb,nh), vtype=GRB.CONTINUOUS, name='theta')\r\n",
    "  m.update()\r\n",
    "\r\n",
    "  # Función de coste\r\n",
    "  CF  = sum([Pgen[:,h]@np.diag(a*Sb*Sb)@Pgen[:,h]+(b*Sb)@Pgen[:,h]+sum(c) for h in range(nh)])\r\n",
    "  CF2 = sum([Qgen[:,h]@np.diag(a1*Sb*Sb)@Qgen[:,h]+(b1*Sb)@Qgen[:,h]+sum(c1) for h in range(nh)])\r\n",
    "  \r\n",
    "  m.setObjective(CF+CF2, GRB.MINIMIZE)\r\n",
    "  m.update()\r\n",
    "  \r\n",
    "  for h in range(nh): \r\n",
    "    # Restricción de balance (26-27)\r\n",
    "    m.addConstr(-np.imag(Ybp)@theta[:,h]+np.real(Yb)@V[:,h]-Cg@Pgen[:,h]+np.abs(Cbr).T@P_lt[:,h]+np.abs(Cbr).T@P_lv[:,h] == -(PD)*kLoad[h], name='(26)')\r\n",
    "    m.addConstr(-np.real(Ybp)@theta[:,h]-np.imag(Yb)@V[:,h]-Cg@Qgen[:,h]+np.abs(Cbr).T@Q_lt[:,h]+np.abs(Cbr).T@Q_lv[:,h] == -(QD)*kLoad[h], name='(27)')\r\n",
    "\r\n",
    "    m.addConstr( k1*gx@Cbr@theta[:,h]-P_lt[:,h]>=0, name='(a)')\r\n",
    "    m.addConstr(-k1*gx@Cbr@theta[:,h]-P_lt[:,h]>=0, name='(b)')\r\n",
    "\r\n",
    "    # m.addConstr( k2*gx@Cbr@V[:,h]-P_lv[:,h]>=0, name='(c)')\r\n",
    "    # m.addConstr(-k2*gx@Cbr@V[:,h]-P_lv[:,h]>=0, name='(d)')\r\n",
    "\r\n",
    "    # m.addConstr( k1*bx@Cbr@theta[:,h]-Q_lt[:,h]>=0, name='(e)')\r\n",
    "    # m.addConstr(-k1*bx@Cbr@theta[:,h]-Q_lt[:,h]>=0, name='(f)')\r\n",
    "\r\n",
    "    # m.addConstr( k2*bx@Cbr@V[:,h]-Q_lv[:,h]>=0, name='(g)')\r\n",
    "    # m.addConstr(-k2*bx@Cbr@V[:,h]-Q_lv[:,h]>=0, name='(h)')\r\n",
    "    \r\n",
    "\r\n",
    "    m.addConstr(Pf[:,h] == -np.imag(Yfp)@theta[:,h]+np.real(Yf)@V[:,h], name='(Aux1)')\r\n",
    "    m.addConstr(Qf[:,h] == -np.real(Yfp)@theta[:,h]-np.imag(Yf)@V[:,h], name='(Aux2)')\r\n",
    "  \r\n",
    "    # Bounds\r\n",
    "    m.addConstr(   Pf[:,h]+Aq@Qf[:,h]  >= -s, name='B1m')\r\n",
    "    m.addConstr( -(Pf[:,h]+Aq@Qf[:,h]) >= -s, name='B1M')\r\n",
    "\r\n",
    "    m.addConstr(   Pf[:,h]-Aq@Qf[:,h]  >= -s, name='B2m')\r\n",
    "    m.addConstr( -(Pf[:,h]-Aq@Qf[:,h]) >= -s, name='B2M')\r\n",
    "\r\n",
    "    m.addConstr(   Aq@Pf[:,h]+Qf[:,h]  >= -s, name='B3m')\r\n",
    "    m.addConstr( -(Aq@Pf[:,h]+Qf[:,h]) >= -s, name='B3M')\r\n",
    "\r\n",
    "    m.addConstr(   Aq@Pf[:,h]-Qf[:,h]  >= -s, name='B4m')\r\n",
    "    m.addConstr( -(Aq@Pf[:,h]-Qf[:,h]) >= -s, name='B4M')\r\n",
    "    \r\n",
    "    m.addConstr(theta[:,h][idxSL] == 0,'SL') \r\n",
    "    m.addConstr(-Pgen[:,h] >= -PGmax, name='Pmax')\r\n",
    "    m.addConstr( Pgen[:,h] >=  PGmin, name='Pmin')\r\n",
    "    m.addConstr(-Qgen[:,h] >= -QGmax, name='Qmax')\r\n",
    "    m.addConstr( Qgen[:,h] >=  QGmin, name='Qmin')\r\n",
    "    m.addConstr(-V[:,h] >= -Vmax, name='Vmax')\r\n",
    "    m.addConstr( V[:,h] >=  Vmin, name='Vmin')\r\n",
    "    m.addConstr(-theta[:,h] >= -thetamax, name='thetamax')\r\n",
    "    m.addConstr( theta[:,h] >=  thetamin, name='thetamin')\r\n",
    "\r\n",
    "  m.update()\r\n",
    "  m.optimize()\r\n",
    "  print(\"     FO: {:8.2f}\\n\".format(m.objVal))\r\n",
    "  print(np.hstack([Pgen.x.T, Pgen.x.T.sum(axis=1).reshape(-1,1)]).astype(np.float16), '\\n')\r\n",
    "  print(np.hstack([Qgen.x.T, Qgen.x.T.sum(axis=1).reshape(-1,1)]).astype(np.float16), '\\n')\r\n",
    "\r\n",
    "\r\n",
    "  \r\n",
    "except gp.GurobiError as e:\r\n",
    "  print('Error code ' + str(e.errno) + ': ' + str(e))\r\n",
    "\r\n",
    "except AttributeError:\r\n",
    "  print('Encountered an attribute error')"
   ],
   "outputs": [
    {
     "output_type": "stream",
     "name": "stdout",
     "text": [
      "     FO: 175645.83\n",
      "\n",
      "[[1.      0.5     0.4     1.      0.5884  0.5903  4.08   ]\n",
      " [1.      0.5     0.4     1.      0.4082  0.2302  3.54   ]\n",
      " [1.      0.5     0.4     0.8115  0.07385 0.      2.785  ]] \n",
      "\n",
      "[[1.    1.    0.5   0.5   0.    0.    3.   ]\n",
      " [1.    1.    0.5   0.5   0.    0.    3.   ]\n",
      " [1.    1.    0.718 0.5   0.    0.    3.217]] \n",
      "\n"
     ]
    }
   ],
   "metadata": {}
  },
  {
   "cell_type": "code",
   "execution_count": 155,
   "source": [],
   "outputs": [
    {
     "output_type": "execute_result",
     "data": {
      "text/plain": [
       "array([[1.     , 0.5    , 0.4    , 1.     , 0.5884 , 0.5903 , 4.08   ],\n",
       "       [1.     , 0.5    , 0.4    , 1.     , 0.4082 , 0.2302 , 3.54   ],\n",
       "       [1.     , 0.5    , 0.4    , 0.8115 , 0.07385, 0.     , 2.785  ]],\n",
       "      dtype=float16)"
      ]
     },
     "metadata": {},
     "execution_count": 155
    }
   ],
   "metadata": {}
  },
  {
   "cell_type": "code",
   "execution_count": 63,
   "source": [
    "#          Pmax  Pmin Qmax Qmin \r\n",
    "# array([[  1.0,  0.1, 1.0, 1.0,  60.],\r\n",
    "#        [  1.2,  0.5, 1.0, 1.0, 100.],\r\n",
    "#        [  1.5,  0.4, 1.0, 0.5, 190.],\r\n",
    "#        [  1.0,  0.1, 1.0, 0.5,  90.],\r\n",
    "#        [  1.0,  0.0, 1.0, 0.0, 500.],\r\n",
    "#        [  2.0,  0.0, 2.0, 0.0, 500.]])"
   ],
   "outputs": [],
   "metadata": {}
  },
  {
   "cell_type": "code",
   "execution_count": null,
   "source": [],
   "outputs": [],
   "metadata": {}
  }
 ]
}