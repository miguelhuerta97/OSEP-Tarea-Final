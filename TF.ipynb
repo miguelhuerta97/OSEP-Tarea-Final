{
 "metadata": {
  "language_info": {
   "codemirror_mode": {
    "name": "ipython",
    "version": 3
   },
   "file_extension": ".py",
   "mimetype": "text/x-python",
   "name": "python",
   "nbconvert_exporter": "python",
   "pygments_lexer": "ipython3",
   "version": "3.6.8"
  },
  "orig_nbformat": 2,
  "kernelspec": {
   "name": "python36864bit633c03bf202d46c19f674fe3128f034f",
   "display_name": "Python 3.6.8 64-bit ('ASEP3': venv)"
  },
  "metadata": {
   "interpreter": {
    "hash": "9b67406d7fbb2af7015a14466850ddc26f8561b13d5c8d3cb28b20678c0b271e"
   }
  }
 },
 "nbformat": 4,
 "nbformat_minor": 2,
 "cells": [
  {
   "source": [
    "<center><img src=\"http://www.exalumnos.usm.cl/wp-content/uploads/2015/06/Isotipo-Negro.gif\" title=\"Title text\" width=\"30%\" /></center>\n",
    "\n",
    "<hr style=\"height:2px;border:none\"/>\n",
    "<h1 align='center'> ELI-349 Operación de Sistemas Eléctricos de Potencia </h1>\n",
    "\n",
    "<h2 align='center'><b>Tarea Final</b></h2>\n",
    "<h3 align='center'>Preparado por Miguel Huerta</h3>\n",
    "\n",
    "\n",
    "\n",
    "<hr style=\"height:2px;border:none\"/>\n"
   ],
   "cell_type": "markdown",
   "metadata": {}
  },
  {
   "cell_type": "code",
   "execution_count": 5,
   "metadata": {},
   "outputs": [
    {
     "output_type": "stream",
     "name": "stdout",
     "text": [
      "PowerFactory 2020 SP1\nGurobi\n"
     ]
    }
   ],
   "source": [
    "import os, getpass\n",
    "import numpy as np \n",
    "import pandas as pd \n",
    "import matplotlib.pyplot as plt\n",
    "import matplotlib.gridspec as gridspec\n",
    "from platform import python_version\n",
    "from scipy.sparse import csr_matrix as sparse\n",
    "from time import time\n",
    "\n",
    "\n",
    "np.set_printoptions(edgeitems=30, linewidth=100000)\n",
    "pd.set_option('display.float_format', lambda x: '%.3f' % x)\n",
    "plt.rcParams.update({\n",
    "        'lines.linewidth' : 2,\n",
    "        'legend.fontsize' : 16,\n",
    "        'font.size'       : 16,\n",
    "        'axes.titlesize'  : 18, \n",
    "        'axes.labelsize'  : 18,\n",
    "        'xtick.labelsize' : 16,\n",
    "        'ytick.labelsize' : 16,\n",
    "        'figure.dpi'      : 80,\n",
    "        'figure.facecolor': 'w',\n",
    "        'figure.edgecolor': 'k',\n",
    "        })\n",
    "\n",
    "\n",
    "########### Digsilent\n",
    "try: \n",
    "  cwd = os.getcwd()\n",
    "  Digsilent = os.listdir(\"C:\\Program Files\\DIgSILENT\\\\\")\n",
    "  try:    DigsilentVersion = Digsilent[['2020' in k for k in Digsilent].index(True)]\n",
    "  except: DigsilentVersion = Digsilent[['2019' in k for k in Digsilent].index(True)]\n",
    "  os.chdir(\"C:\\Program Files\\DIgSILENT\\\\\"+DigsilentVersion+'\\\\Python\\\\'+python_version()[:3])\n",
    "  import powerfactory as pf\n",
    "  try:    app = pf.GetApplication(getpass.getuser(),'') \n",
    "  except: app = pf.GetApplication(User,'') \n",
    "  os.chdir(cwd)\n",
    "  app.ResetCalculation()\n",
    "  print(DigsilentVersion)\n",
    "except Exception as e: print(e)\n",
    "\n",
    "########### Gurobi\n",
    "try: \n",
    "  cwd = os.getcwd()\n",
    "  ls  = os.listdir(\"C:\\\\\")\n",
    "  for gu in ls: \n",
    "    if 'gurobi' in gu: \n",
    "      os.chdir(\"C:\\\\\"+gu+'\\win64\\python'+python_version()[:-2].replace('.','')+'\\lib\\gurobipy')\n",
    "      import gurobipy as gp\n",
    "      from gurobipy import GRB\n",
    "      print('Gurobi')\n",
    "  os.chdir(cwd)\n",
    "except:\n",
    "  pass"
   ]
  },
  {
   "source": [
    "## Funciones Digsilent"
   ],
   "cell_type": "markdown",
   "metadata": {}
  },
  {
   "cell_type": "code",
   "execution_count": 22,
   "metadata": {},
   "outputs": [],
   "source": [
    "def searchDB(user, name=None):\n",
    "  NoElements = ['RecBin', 'Set', 'Study Cases','Network Model',\n",
    "  'Operation Scenarios','Settings','Library','CIM Model', 'Step Response Test', 'Test commands'\n",
    "  ]\n",
    "  for projectName in user.GetChildren(1):\n",
    "    if projectName.loc_name.strip() not in NoElements:\n",
    "      print(projectName.loc_name)\n",
    "      if name==projectName.loc_name:\n",
    "        proj = projectName\n",
    "      else:\n",
    "        proj = None\n",
    "      try:\n",
    "        for projectName2 in projectName.GetChildren(1):\n",
    "          if projectName2.loc_name.strip() not in NoElements:\n",
    "            print('   ', projectName2.loc_name)\n",
    "            if name==projectName2.loc_name:\n",
    "              proj = projectName2\n",
    "            else:\n",
    "              proj = None\n",
    "      except:pass\n",
    "  return proj\n",
    "\n",
    "def DefineOuputChannels(elmRes):\n",
    "  buses, syms, loads, stats = [app.GetCalcRelevantObjects(\"*.\"+k) for k in ['ElmTerm', 'ElmSym', 'ElmLod', 'ElmGenStat']]\n",
    "  for k in elmRes.GetChildren(1): k.Delete() # reset\n",
    "  for bus in buses:  elmRes.AddVars(bus, 'm:u', 'm:phiu','m:fehz',)   \n",
    "  for sym in syms:   elmRes.AddVars(sym, 's:ve','s:pt','s:ut','s:ie','s:xspeed','s:xme','s:xmt','s:cur1','s:P1','s:Q1','c:firel',)\n",
    "  for load in loads: elmRes.AddVars(load, 'n:u1:bus1', 'm:I1:bus1', 'm:Psum:bus1', 'm:Qsum:bus1')\n",
    "  for stat in stats: elmRes.AddVars(stat, 'm:Psum:bus1', 'm:Qsum:bus1')\n",
    "  return elmRes\n",
    "\n",
    "def clearSimEvents():\n",
    "  faultFolder = app.GetFromStudyCase(\"Simulation Events/Fault.IntEvt\")\n",
    "  cont = faultFolder.GetContents()\n",
    "  for obj in cont:\n",
    "    obj.Delete()\n",
    "\n",
    "def ExportResults(comres, elmRes, name='temp'):\n",
    "  comres.ciopt_head = 1\n",
    "  comres.iopt_csel  = 0\n",
    "  comres.iopt_tsel  = 0\n",
    "  comres.iopt_locn  = 1\n",
    "  comres.iopt_sep   = 1\n",
    "  comres.pResult    = elmRes\n",
    "  comres.f_name     = os.getcwd()+'\\\\'+name+'.csv'\n",
    "  comres.Execute()\n",
    "\n",
    "def runSimulation(comInc, comSim, app):\n",
    "  app.EchoOff()\n",
    "  comInc.Execute()\n",
    "  app.EchoOn()\n",
    "  comSim.Execute()\n",
    "\n",
    "def setupSimultation(comInc, comSim):\n",
    "  comInc.iopt_sim = \"rms\"\n",
    "  comInc.iopt_show = 0\n",
    "  comInc.iopt_adapt = 0\n",
    "  comInc.dtgrd = 0.01\n",
    "  comInc.start = -0.1\n",
    "  comSim.tstop = 15"
   ]
  },
  {
   "cell_type": "code",
   "execution_count": 57,
   "metadata": {},
   "outputs": [
    {
     "output_type": "stream",
     "name": "stdout",
     "text": [
      "respaldo\n    BD 2026 V4.3\n    BD ERST 2020-2026v1.2\n    BD ERST 2020-2026v1.4POC\n    BD ERST 2020-2026v1.5\n    BD ERST 2020-2026v1.5POC\n    BD ERST 2020 14-09v1.6PH\n    BD ERST 2020-2026v1.7POC-9-23-1\n    14B-Tunning\n    14B-Tunning(1)\n    14 Bus System\nBD ERST 2020-2026v2.1POC(7-8-9)\nBD ERST 2020-2026v2.0\nFAPI_B\nFAPI_A\nDroop\nVSP\nIEEE 14-bus AGCv1.3PVSystem\n    AGC simulation\nPPT2\n    2 Two Area System with WADC\n    2 Two Area System without WADC\n2 Two Area System with WADC\n2 Two Area System without WADC\n"
     ]
    }
   ],
   "source": [
    "user = app.GetCurrentUser()\n",
    "searchDB(user)"
   ]
  },
  {
   "cell_type": "code",
   "execution_count": 54,
   "metadata": {},
   "outputs": [
    {
     "output_type": "stream",
     "name": "stdout",
     "text": [
      "Nombre del Proyecto: 2 Two Area System without WADC\n"
     ]
    }
   ],
   "source": [
    "version = '2 Two Area System without WADC'\n",
    "\n",
    "try:\n",
    "  project = app.ActivateProject(version) \n",
    "  prj = app.GetActiveProject()\n",
    "  print('Nombre del Proyecto: {:s}'.format(prj.loc_name))\n",
    "  comLdf = app.GetFromStudyCase(\"ComLdf\")    # Load flow\n",
    "  comInc = app.GetFromStudyCase('ComInc')    # Dynamic initialization\n",
    "  comSim = app.GetFromStudyCase('ComSim')    # Transient simulations\n",
    "  comMod = app.GetFromStudyCase('ComMod')    # Modal Analysis\n",
    "  comRes = app.GetFromStudyCase('ComRes')\n",
    "  events = app.GetFromStudyCase('IntEvt')\n",
    "  comMod.iopt_met = 0 # QR/QZ-Method\n",
    "  EigenValues = comMod.ResultFile\n",
    "  \n",
    "\n",
    "\n",
    "  \n",
    "  comInc.Execute()\n",
    "  comMod.Execute()\n",
    "  try:os.remove(os.getcwd()+'\\\\temp.csv')\n",
    "  except: pass\n",
    "\n",
    "except Exception as e: print(e)\n",
    "\n"
   ]
  },
  {
   "cell_type": "code",
   "execution_count": 128,
   "metadata": {},
   "outputs": [
    {
     "output_type": "stream",
     "name": "stdout",
     "text": [
      "G01 0 1\nG02 0 1\nG03 1 1\nG04 0 1\n"
     ]
    }
   ],
   "source": [
    "#bus\tPg\tQg\tQmax\tQmin\tVg\tmBase\tstatus\tPmax\tPmin\tPc1\tPc2\tQc1min\tQc1max\tQc2min\tQc2max\tramp_agc\tramp_10\tramp_30\tramp_q\tapf \n",
    "\n",
    "syms  = {k.loc_name:k for k in app.GetCalcRelevantObjects(\"*.ElmSym\")}\n",
    "\n",
    "for k in syms:\n",
    "  print(k,\n",
    "        syms[k].ip_ctrl,  # Ref\n",
    "        syms[k].bus1.cterm.loc_name\n",
    "        )"
   ]
  },
  {
   "cell_type": "code",
   "execution_count": 95,
   "metadata": {},
   "outputs": [],
   "source": [
    "#bus_i\ttype\tPd\tQd\tGs\tBs\tarea\tVm\tVa\tbaseKV\tzone\tVmax\tVmin\n",
    "buses = {k.loc_name:k for k in app.GetCalcRelevantObjects(\"*.ElmTerm\")}\n"
   ]
  },
  {
   "cell_type": "code",
   "execution_count": 110,
   "metadata": {},
   "outputs": [
    {
     "output_type": "stream",
     "name": "stdout",
     "text": [
      "L 07 967.0 100.0\nL 09 1767.0 100.0\n"
     ]
    }
   ],
   "source": [
    "loads = {k.loc_name:k for k in app.GetCalcRelevantObjects(\"*.ElmLod\")}\n",
    "for k in loads:\n",
    "    print(\n",
    "        k,\n",
    "        loads[k].plini,\n",
    "        loads[k].qlini,\n",
    "    )"
   ]
  },
  {
   "cell_type": "code",
   "execution_count": 127,
   "metadata": {},
   "outputs": [
    {
     "output_type": "stream",
     "name": "stdout",
     "text": [
      "L 05-06 B05.ElmSubstat\nL 06-07 B06.ElmSubstat\nL 07-08-1 B07.ElmSubstat\nL 07-08-2 B07.ElmSubstat\nL 08-09-1 B08.ElmSubstat\nL 08-09-2 B08.ElmSubstat\nL 09-10 B09.ElmSubstat\nL 10-11 B11.ElmSubstat\n"
     ]
    }
   ],
   "source": [
    "#fbus\ttbus\tr\tx\tb\trateA\trateB\trateC\tratio\tangle\tstatus\tangmin\tangmax\n",
    "lines = {k.loc_name:k for k in app.GetCalcRelevantObjects(\"*.ElmLne\")}\n",
    "for k in lines:\n",
    "    print(\n",
    "        k,\n",
    "        str(lines[k].bus1.cterm).split('\\\\')[-2],\n",
    "        # lines[k].bus2.loc_name,\n",
    "        # lines[k].R1,\n",
    "        # lines[k].X1\n",
    "    )"
   ]
  },
  {
   "cell_type": "code",
   "execution_count": 138,
   "metadata": {},
   "outputs": [
    {
     "output_type": "stream",
     "name": "stdout",
     "text": [
      "B05\n<l3>\\Miguel.IntUser\\2 Two Area System without WADC.IntPrj\\Network Model.IntPrjfolder\\Network Data.IntPrjfolder\\Grid.ElmNet\\B05.ElmSubstat\\CB1.ElmCoup</l3>\n<l3>\\Miguel.IntUser\\2 Two Area System without WADC.IntPrj\\Network Model.IntPrjfolder\\Network Data.IntPrjfolder\\Grid.ElmNet\\B05.ElmSubstat\\CB2.ElmCoup</l3>\n<l3>\\Miguel.IntUser\\2 Two Area System without WADC.IntPrj\\Network Model.IntPrjfolder\\Network Data.IntPrjfolder\\Grid.ElmNet\\B05.ElmSubstat\\CB3.ElmCoup</l3>\n<l3>\\Miguel.IntUser\\2 Two Area System without WADC.IntPrj\\Network Model.IntPrjfolder\\Network Data.IntPrjfolder\\Grid.ElmNet\\B05.ElmSubstat\\CB4.ElmCoup</l3>\n<l3>\\Miguel.IntUser\\2 Two Area System without WADC.IntPrj\\Network Model.IntPrjfolder\\Network Data.IntPrjfolder\\Grid.ElmNet\\B05.ElmSubstat\\IS1.1.ElmCoup</l3>\n<l3>\\Miguel.IntUser\\2 Two Area System without WADC.IntPrj\\Network Model.IntPrjfolder\\Network Data.IntPrjfolder\\Grid.ElmNet\\B05.ElmSubstat\\IS1.2.ElmCoup</l3>\n<l3>\\Miguel.IntUser\\2 Two Area System without WADC.IntPrj\\Network Model.IntPrjfolder\\Network Data.IntPrjfolder\\Grid.ElmNet\\B05.ElmSubstat\\IS2.1.ElmCoup</l3>\n<l3>\\Miguel.IntUser\\2 Two Area System without WADC.IntPrj\\Network Model.IntPrjfolder\\Network Data.IntPrjfolder\\Grid.ElmNet\\B05.ElmSubstat\\IS2.2.ElmCoup</l3>\n<l3>\\Miguel.IntUser\\2 Two Area System without WADC.IntPrj\\Network Model.IntPrjfolder\\Network Data.IntPrjfolder\\Grid.ElmNet\\B05.ElmSubstat\\IS3.1.ElmCoup</l3>\n<l3>\\Miguel.IntUser\\2 Two Area System without WADC.IntPrj\\Network Model.IntPrjfolder\\Network Data.IntPrjfolder\\Grid.ElmNet\\B05.ElmSubstat\\IS3.2.ElmCoup</l3>\n<l3>\\Miguel.IntUser\\2 Two Area System without WADC.IntPrj\\Network Model.IntPrjfolder\\Network Data.IntPrjfolder\\Grid.ElmNet\\B05.ElmSubstat\\IS4.1.ElmCoup</l3>\n<l3>\\Miguel.IntUser\\2 Two Area System without WADC.IntPrj\\Network Model.IntPrjfolder\\Network Data.IntPrjfolder\\Grid.ElmNet\\B05.ElmSubstat\\IS4.2.ElmCoup</l3>\n<l3>\\Miguel.IntUser\\2 Two Area System without WADC.IntPrj\\Network Model.IntPrjfolder\\Network Data.IntPrjfolder\\Grid.ElmNet\\B05.ElmSubstat\\1.ElmTerm</l3>\n<l3>\\Miguel.IntUser\\2 Two Area System without WADC.IntPrj\\Network Model.IntPrjfolder\\Network Data.IntPrjfolder\\Grid.ElmNet\\B05.ElmSubstat\\2.ElmTerm</l3>\n<l3>\\Miguel.IntUser\\2 Two Area System without WADC.IntPrj\\Network Model.IntPrjfolder\\Network Data.IntPrjfolder\\Grid.ElmNet\\B05.ElmSubstat\\3.ElmTerm</l3>\n<l3>\\Miguel.IntUser\\2 Two Area System without WADC.IntPrj\\Network Model.IntPrjfolder\\Network Data.IntPrjfolder\\Grid.ElmNet\\B05.ElmSubstat\\4.ElmTerm</l3>\n<l3>\\Miguel.IntUser\\2 Two Area System without WADC.IntPrj\\Network Model.IntPrjfolder\\Network Data.IntPrjfolder\\Grid.ElmNet\\B05.ElmSubstat\\B05.ElmTerm</l3>\n<l3>\\Miguel.IntUser\\2 Two Area System without WADC.IntPrj\\Network Model.IntPrjfolder\\Network Data.IntPrjfolder\\Grid.ElmNet\\B05.ElmSubstat\\T1.1.ElmTerm</l3>\n<l3>\\Miguel.IntUser\\2 Two Area System without WADC.IntPrj\\Network Model.IntPrjfolder\\Network Data.IntPrjfolder\\Grid.ElmNet\\B05.ElmSubstat\\T1.2.ElmTerm</l3>\n<l3>\\Miguel.IntUser\\2 Two Area System without WADC.IntPrj\\Network Model.IntPrjfolder\\Network Data.IntPrjfolder\\Grid.ElmNet\\B05.ElmSubstat\\T1.3.ElmTerm</l3>\n<l3>\\Miguel.IntUser\\2 Two Area System without WADC.IntPrj\\Network Model.IntPrjfolder\\Network Data.IntPrjfolder\\Grid.ElmNet\\B05.ElmSubstat\\T1.4.ElmTerm</l3>\n<l3>\\Miguel.IntUser\\2 Two Area System without WADC.IntPrj\\Network Model.IntPrjfolder\\Network Data.IntPrjfolder\\Grid.ElmNet\\B05.ElmSubstat\\T2.1.ElmTerm</l3>\n<l3>\\Miguel.IntUser\\2 Two Area System without WADC.IntPrj\\Network Model.IntPrjfolder\\Network Data.IntPrjfolder\\Grid.ElmNet\\B05.ElmSubstat\\T2.2.ElmTerm</l3>\n<l3>\\Miguel.IntUser\\2 Two Area System without WADC.IntPrj\\Network Model.IntPrjfolder\\Network Data.IntPrjfolder\\Grid.ElmNet\\B05.ElmSubstat\\T2.3.ElmTerm</l3>\n<l3>\\Miguel.IntUser\\2 Two Area System without WADC.IntPrj\\Network Model.IntPrjfolder\\Network Data.IntPrjfolder\\Grid.ElmNet\\B05.ElmSubstat\\T2.4.ElmTerm</l3>\nB06\n<l3>\\Miguel.IntUser\\2 Two Area System without WADC.IntPrj\\Network Model.IntPrjfolder\\Network Data.IntPrjfolder\\Grid.ElmNet\\B06.ElmSubstat\\CB1.ElmCoup</l3>\n<l3>\\Miguel.IntUser\\2 Two Area System without WADC.IntPrj\\Network Model.IntPrjfolder\\Network Data.IntPrjfolder\\Grid.ElmNet\\B06.ElmSubstat\\CB2.ElmCoup</l3>\n<l3>\\Miguel.IntUser\\2 Two Area System without WADC.IntPrj\\Network Model.IntPrjfolder\\Network Data.IntPrjfolder\\Grid.ElmNet\\B06.ElmSubstat\\CB3.ElmCoup</l3>\n<l3>\\Miguel.IntUser\\2 Two Area System without WADC.IntPrj\\Network Model.IntPrjfolder\\Network Data.IntPrjfolder\\Grid.ElmNet\\B06.ElmSubstat\\CB4.ElmCoup</l3>\n<l3>\\Miguel.IntUser\\2 Two Area System without WADC.IntPrj\\Network Model.IntPrjfolder\\Network Data.IntPrjfolder\\Grid.ElmNet\\B06.ElmSubstat\\IS1.1.ElmCoup</l3>\n<l3>\\Miguel.IntUser\\2 Two Area System without WADC.IntPrj\\Network Model.IntPrjfolder\\Network Data.IntPrjfolder\\Grid.ElmNet\\B06.ElmSubstat\\IS1.2.ElmCoup</l3>\n<l3>\\Miguel.IntUser\\2 Two Area System without WADC.IntPrj\\Network Model.IntPrjfolder\\Network Data.IntPrjfolder\\Grid.ElmNet\\B06.ElmSubstat\\IS2.1.ElmCoup</l3>\n<l3>\\Miguel.IntUser\\2 Two Area System without WADC.IntPrj\\Network Model.IntPrjfolder\\Network Data.IntPrjfolder\\Grid.ElmNet\\B06.ElmSubstat\\IS2.2.ElmCoup</l3>\n<l3>\\Miguel.IntUser\\2 Two Area System without WADC.IntPrj\\Network Model.IntPrjfolder\\Network Data.IntPrjfolder\\Grid.ElmNet\\B06.ElmSubstat\\IS3.1.ElmCoup</l3>\n<l3>\\Miguel.IntUser\\2 Two Area System without WADC.IntPrj\\Network Model.IntPrjfolder\\Network Data.IntPrjfolder\\Grid.ElmNet\\B06.ElmSubstat\\IS3.2.ElmCoup</l3>\n<l3>\\Miguel.IntUser\\2 Two Area System without WADC.IntPrj\\Network Model.IntPrjfolder\\Network Data.IntPrjfolder\\Grid.ElmNet\\B06.ElmSubstat\\IS4.1.ElmCoup</l3>\n<l3>\\Miguel.IntUser\\2 Two Area System without WADC.IntPrj\\Network Model.IntPrjfolder\\Network Data.IntPrjfolder\\Grid.ElmNet\\B06.ElmSubstat\\IS4.2.ElmCoup</l3>\n<l3>\\Miguel.IntUser\\2 Two Area System without WADC.IntPrj\\Network Model.IntPrjfolder\\Network Data.IntPrjfolder\\Grid.ElmNet\\B06.ElmSubstat\\1.ElmTerm</l3>\n<l3>\\Miguel.IntUser\\2 Two Area System without WADC.IntPrj\\Network Model.IntPrjfolder\\Network Data.IntPrjfolder\\Grid.ElmNet\\B06.ElmSubstat\\2.ElmTerm</l3>\n<l3>\\Miguel.IntUser\\2 Two Area System without WADC.IntPrj\\Network Model.IntPrjfolder\\Network Data.IntPrjfolder\\Grid.ElmNet\\B06.ElmSubstat\\3.ElmTerm</l3>\n<l3>\\Miguel.IntUser\\2 Two Area System without WADC.IntPrj\\Network Model.IntPrjfolder\\Network Data.IntPrjfolder\\Grid.ElmNet\\B06.ElmSubstat\\4.ElmTerm</l3>\n<l3>\\Miguel.IntUser\\2 Two Area System without WADC.IntPrj\\Network Model.IntPrjfolder\\Network Data.IntPrjfolder\\Grid.ElmNet\\B06.ElmSubstat\\B06.ElmTerm</l3>\n<l3>\\Miguel.IntUser\\2 Two Area System without WADC.IntPrj\\Network Model.IntPrjfolder\\Network Data.IntPrjfolder\\Grid.ElmNet\\B06.ElmSubstat\\T1.1.ElmTerm</l3>\n<l3>\\Miguel.IntUser\\2 Two Area System without WADC.IntPrj\\Network Model.IntPrjfolder\\Network Data.IntPrjfolder\\Grid.ElmNet\\B06.ElmSubstat\\T1.2.ElmTerm</l3>\n<l3>\\Miguel.IntUser\\2 Two Area System without WADC.IntPrj\\Network Model.IntPrjfolder\\Network Data.IntPrjfolder\\Grid.ElmNet\\B06.ElmSubstat\\T1.3.ElmTerm</l3>\n<l3>\\Miguel.IntUser\\2 Two Area System without WADC.IntPrj\\Network Model.IntPrjfolder\\Network Data.IntPrjfolder\\Grid.ElmNet\\B06.ElmSubstat\\T1.4.ElmTerm</l3>\n<l3>\\Miguel.IntUser\\2 Two Area System without WADC.IntPrj\\Network Model.IntPrjfolder\\Network Data.IntPrjfolder\\Grid.ElmNet\\B06.ElmSubstat\\T2.1.ElmTerm</l3>\n<l3>\\Miguel.IntUser\\2 Two Area System without WADC.IntPrj\\Network Model.IntPrjfolder\\Network Data.IntPrjfolder\\Grid.ElmNet\\B06.ElmSubstat\\T2.2.ElmTerm</l3>\n<l3>\\Miguel.IntUser\\2 Two Area System without WADC.IntPrj\\Network Model.IntPrjfolder\\Network Data.IntPrjfolder\\Grid.ElmNet\\B06.ElmSubstat\\T2.3.ElmTerm</l3>\n<l3>\\Miguel.IntUser\\2 Two Area System without WADC.IntPrj\\Network Model.IntPrjfolder\\Network Data.IntPrjfolder\\Grid.ElmNet\\B06.ElmSubstat\\T2.4.ElmTerm</l3>\nB07\n<l3>\\Miguel.IntUser\\2 Two Area System without WADC.IntPrj\\Network Model.IntPrjfolder\\Network Data.IntPrjfolder\\Grid.ElmNet\\B07.ElmSubstat\\CB1.ElmCoup</l3>\n<l3>\\Miguel.IntUser\\2 Two Area System without WADC.IntPrj\\Network Model.IntPrjfolder\\Network Data.IntPrjfolder\\Grid.ElmNet\\B07.ElmSubstat\\CB2.ElmCoup</l3>\n<l3>\\Miguel.IntUser\\2 Two Area System without WADC.IntPrj\\Network Model.IntPrjfolder\\Network Data.IntPrjfolder\\Grid.ElmNet\\B07.ElmSubstat\\CB3.ElmCoup</l3>\n<l3>\\Miguel.IntUser\\2 Two Area System without WADC.IntPrj\\Network Model.IntPrjfolder\\Network Data.IntPrjfolder\\Grid.ElmNet\\B07.ElmSubstat\\CB4.ElmCoup</l3>\n<l3>\\Miguel.IntUser\\2 Two Area System without WADC.IntPrj\\Network Model.IntPrjfolder\\Network Data.IntPrjfolder\\Grid.ElmNet\\B07.ElmSubstat\\CB5.ElmCoup</l3>\n<l3>\\Miguel.IntUser\\2 Two Area System without WADC.IntPrj\\Network Model.IntPrjfolder\\Network Data.IntPrjfolder\\Grid.ElmNet\\B07.ElmSubstat\\IS1.1.ElmCoup</l3>\n<l3>\\Miguel.IntUser\\2 Two Area System without WADC.IntPrj\\Network Model.IntPrjfolder\\Network Data.IntPrjfolder\\Grid.ElmNet\\B07.ElmSubstat\\IS1.2.ElmCoup</l3>\n<l3>\\Miguel.IntUser\\2 Two Area System without WADC.IntPrj\\Network Model.IntPrjfolder\\Network Data.IntPrjfolder\\Grid.ElmNet\\B07.ElmSubstat\\IS2.1.ElmCoup</l3>\n<l3>\\Miguel.IntUser\\2 Two Area System without WADC.IntPrj\\Network Model.IntPrjfolder\\Network Data.IntPrjfolder\\Grid.ElmNet\\B07.ElmSubstat\\IS2.2.ElmCoup</l3>\n<l3>\\Miguel.IntUser\\2 Two Area System without WADC.IntPrj\\Network Model.IntPrjfolder\\Network Data.IntPrjfolder\\Grid.ElmNet\\B07.ElmSubstat\\IS3.1.ElmCoup</l3>\n<l3>\\Miguel.IntUser\\2 Two Area System without WADC.IntPrj\\Network Model.IntPrjfolder\\Network Data.IntPrjfolder\\Grid.ElmNet\\B07.ElmSubstat\\IS3.2.ElmCoup</l3>\n<l3>\\Miguel.IntUser\\2 Two Area System without WADC.IntPrj\\Network Model.IntPrjfolder\\Network Data.IntPrjfolder\\Grid.ElmNet\\B07.ElmSubstat\\IS4.1.ElmCoup</l3>\n<l3>\\Miguel.IntUser\\2 Two Area System without WADC.IntPrj\\Network Model.IntPrjfolder\\Network Data.IntPrjfolder\\Grid.ElmNet\\B07.ElmSubstat\\IS4.2.ElmCoup</l3>\n<l3>\\Miguel.IntUser\\2 Two Area System without WADC.IntPrj\\Network Model.IntPrjfolder\\Network Data.IntPrjfolder\\Grid.ElmNet\\B07.ElmSubstat\\IS5.1.ElmCoup</l3>\n<l3>\\Miguel.IntUser\\2 Two Area System without WADC.IntPrj\\Network Model.IntPrjfolder\\Network Data.IntPrjfolder\\Grid.ElmNet\\B07.ElmSubstat\\IS5.2.ElmCoup</l3>\n<l3>\\Miguel.IntUser\\2 Two Area System without WADC.IntPrj\\Network Model.IntPrjfolder\\Network Data.IntPrjfolder\\Grid.ElmNet\\B07.ElmSubstat\\1.ElmTerm</l3>\n<l3>\\Miguel.IntUser\\2 Two Area System without WADC.IntPrj\\Network Model.IntPrjfolder\\Network Data.IntPrjfolder\\Grid.ElmNet\\B07.ElmSubstat\\2.ElmTerm</l3>\n<l3>\\Miguel.IntUser\\2 Two Area System without WADC.IntPrj\\Network Model.IntPrjfolder\\Network Data.IntPrjfolder\\Grid.ElmNet\\B07.ElmSubstat\\3.ElmTerm</l3>\n<l3>\\Miguel.IntUser\\2 Two Area System without WADC.IntPrj\\Network Model.IntPrjfolder\\Network Data.IntPrjfolder\\Grid.ElmNet\\B07.ElmSubstat\\4.ElmTerm</l3>\n<l3>\\Miguel.IntUser\\2 Two Area System without WADC.IntPrj\\Network Model.IntPrjfolder\\Network Data.IntPrjfolder\\Grid.ElmNet\\B07.ElmSubstat\\5.ElmTerm</l3>\n<l3>\\Miguel.IntUser\\2 Two Area System without WADC.IntPrj\\Network Model.IntPrjfolder\\Network Data.IntPrjfolder\\Grid.ElmNet\\B07.ElmSubstat\\B07.ElmTerm</l3>\n<l3>\\Miguel.IntUser\\2 Two Area System without WADC.IntPrj\\Network Model.IntPrjfolder\\Network Data.IntPrjfolder\\Grid.ElmNet\\B07.ElmSubstat\\T1.1.ElmTerm</l3>\n<l3>\\Miguel.IntUser\\2 Two Area System without WADC.IntPrj\\Network Model.IntPrjfolder\\Network Data.IntPrjfolder\\Grid.ElmNet\\B07.ElmSubstat\\T1.2.ElmTerm</l3>\n<l3>\\Miguel.IntUser\\2 Two Area System without WADC.IntPrj\\Network Model.IntPrjfolder\\Network Data.IntPrjfolder\\Grid.ElmNet\\B07.ElmSubstat\\T1.3.ElmTerm</l3>\n<l3>\\Miguel.IntUser\\2 Two Area System without WADC.IntPrj\\Network Model.IntPrjfolder\\Network Data.IntPrjfolder\\Grid.ElmNet\\B07.ElmSubstat\\T1.4.ElmTerm</l3>\n<l3>\\Miguel.IntUser\\2 Two Area System without WADC.IntPrj\\Network Model.IntPrjfolder\\Network Data.IntPrjfolder\\Grid.ElmNet\\B07.ElmSubstat\\T2.1.ElmTerm</l3>\n<l3>\\Miguel.IntUser\\2 Two Area System without WADC.IntPrj\\Network Model.IntPrjfolder\\Network Data.IntPrjfolder\\Grid.ElmNet\\B07.ElmSubstat\\T2.1(1).ElmTerm</l3>\n<l3>\\Miguel.IntUser\\2 Two Area System without WADC.IntPrj\\Network Model.IntPrjfolder\\Network Data.IntPrjfolder\\Grid.ElmNet\\B07.ElmSubstat\\T2.2.ElmTerm</l3>\n<l3>\\Miguel.IntUser\\2 Two Area System without WADC.IntPrj\\Network Model.IntPrjfolder\\Network Data.IntPrjfolder\\Grid.ElmNet\\B07.ElmSubstat\\T2.2(1).ElmTerm</l3>\n<l3>\\Miguel.IntUser\\2 Two Area System without WADC.IntPrj\\Network Model.IntPrjfolder\\Network Data.IntPrjfolder\\Grid.ElmNet\\B07.ElmSubstat\\T2.3.ElmTerm</l3>\n<l3>\\Miguel.IntUser\\2 Two Area System without WADC.IntPrj\\Network Model.IntPrjfolder\\Network Data.IntPrjfolder\\Grid.ElmNet\\B07.ElmSubstat\\T2.4.ElmTerm</l3>\nB08\n<l3>\\Miguel.IntUser\\2 Two Area System without WADC.IntPrj\\Network Model.IntPrjfolder\\Network Data.IntPrjfolder\\Grid.ElmNet\\B08.ElmSubstat\\CB1.ElmCoup</l3>\n<l3>\\Miguel.IntUser\\2 Two Area System without WADC.IntPrj\\Network Model.IntPrjfolder\\Network Data.IntPrjfolder\\Grid.ElmNet\\B08.ElmSubstat\\CB2.ElmCoup</l3>\n<l3>\\Miguel.IntUser\\2 Two Area System without WADC.IntPrj\\Network Model.IntPrjfolder\\Network Data.IntPrjfolder\\Grid.ElmNet\\B08.ElmSubstat\\CB3.ElmCoup</l3>\n<l3>\\Miguel.IntUser\\2 Two Area System without WADC.IntPrj\\Network Model.IntPrjfolder\\Network Data.IntPrjfolder\\Grid.ElmNet\\B08.ElmSubstat\\CB4.ElmCoup</l3>\n<l3>\\Miguel.IntUser\\2 Two Area System without WADC.IntPrj\\Network Model.IntPrjfolder\\Network Data.IntPrjfolder\\Grid.ElmNet\\B08.ElmSubstat\\IS1.1.ElmCoup</l3>\n<l3>\\Miguel.IntUser\\2 Two Area System without WADC.IntPrj\\Network Model.IntPrjfolder\\Network Data.IntPrjfolder\\Grid.ElmNet\\B08.ElmSubstat\\IS1.2.ElmCoup</l3>\n<l3>\\Miguel.IntUser\\2 Two Area System without WADC.IntPrj\\Network Model.IntPrjfolder\\Network Data.IntPrjfolder\\Grid.ElmNet\\B08.ElmSubstat\\IS2.1.ElmCoup</l3>\n<l3>\\Miguel.IntUser\\2 Two Area System without WADC.IntPrj\\Network Model.IntPrjfolder\\Network Data.IntPrjfolder\\Grid.ElmNet\\B08.ElmSubstat\\IS2.2.ElmCoup</l3>\n<l3>\\Miguel.IntUser\\2 Two Area System without WADC.IntPrj\\Network Model.IntPrjfolder\\Network Data.IntPrjfolder\\Grid.ElmNet\\B08.ElmSubstat\\IS3.1.ElmCoup</l3>\n<l3>\\Miguel.IntUser\\2 Two Area System without WADC.IntPrj\\Network Model.IntPrjfolder\\Network Data.IntPrjfolder\\Grid.ElmNet\\B08.ElmSubstat\\IS3.2.ElmCoup</l3>\n<l3>\\Miguel.IntUser\\2 Two Area System without WADC.IntPrj\\Network Model.IntPrjfolder\\Network Data.IntPrjfolder\\Grid.ElmNet\\B08.ElmSubstat\\IS4.1.ElmCoup</l3>\n<l3>\\Miguel.IntUser\\2 Two Area System without WADC.IntPrj\\Network Model.IntPrjfolder\\Network Data.IntPrjfolder\\Grid.ElmNet\\B08.ElmSubstat\\IS4.2.ElmCoup</l3>\n<l3>\\Miguel.IntUser\\2 Two Area System without WADC.IntPrj\\Network Model.IntPrjfolder\\Network Data.IntPrjfolder\\Grid.ElmNet\\B08.ElmSubstat\\1.ElmTerm</l3>\n<l3>\\Miguel.IntUser\\2 Two Area System without WADC.IntPrj\\Network Model.IntPrjfolder\\Network Data.IntPrjfolder\\Grid.ElmNet\\B08.ElmSubstat\\2.ElmTerm</l3>\n<l3>\\Miguel.IntUser\\2 Two Area System without WADC.IntPrj\\Network Model.IntPrjfolder\\Network Data.IntPrjfolder\\Grid.ElmNet\\B08.ElmSubstat\\3.ElmTerm</l3>\n<l3>\\Miguel.IntUser\\2 Two Area System without WADC.IntPrj\\Network Model.IntPrjfolder\\Network Data.IntPrjfolder\\Grid.ElmNet\\B08.ElmSubstat\\4.ElmTerm</l3>\n<l3>\\Miguel.IntUser\\2 Two Area System without WADC.IntPrj\\Network Model.IntPrjfolder\\Network Data.IntPrjfolder\\Grid.ElmNet\\B08.ElmSubstat\\B08.ElmTerm</l3>\n<l3>\\Miguel.IntUser\\2 Two Area System without WADC.IntPrj\\Network Model.IntPrjfolder\\Network Data.IntPrjfolder\\Grid.ElmNet\\B08.ElmSubstat\\T1.1.ElmTerm</l3>\n<l3>\\Miguel.IntUser\\2 Two Area System without WADC.IntPrj\\Network Model.IntPrjfolder\\Network Data.IntPrjfolder\\Grid.ElmNet\\B08.ElmSubstat\\T1.2.ElmTerm</l3>\n<l3>\\Miguel.IntUser\\2 Two Area System without WADC.IntPrj\\Network Model.IntPrjfolder\\Network Data.IntPrjfolder\\Grid.ElmNet\\B08.ElmSubstat\\T1.3.ElmTerm</l3>\n<l3>\\Miguel.IntUser\\2 Two Area System without WADC.IntPrj\\Network Model.IntPrjfolder\\Network Data.IntPrjfolder\\Grid.ElmNet\\B08.ElmSubstat\\T1.4.ElmTerm</l3>\n<l3>\\Miguel.IntUser\\2 Two Area System without WADC.IntPrj\\Network Model.IntPrjfolder\\Network Data.IntPrjfolder\\Grid.ElmNet\\B08.ElmSubstat\\T2.1.ElmTerm</l3>\n<l3>\\Miguel.IntUser\\2 Two Area System without WADC.IntPrj\\Network Model.IntPrjfolder\\Network Data.IntPrjfolder\\Grid.ElmNet\\B08.ElmSubstat\\T2.2.ElmTerm</l3>\n<l3>\\Miguel.IntUser\\2 Two Area System without WADC.IntPrj\\Network Model.IntPrjfolder\\Network Data.IntPrjfolder\\Grid.ElmNet\\B08.ElmSubstat\\T2.3.ElmTerm</l3>\n<l3>\\Miguel.IntUser\\2 Two Area System without WADC.IntPrj\\Network Model.IntPrjfolder\\Network Data.IntPrjfolder\\Grid.ElmNet\\B08.ElmSubstat\\T2.4.ElmTerm</l3>\nB09\n<l3>\\Miguel.IntUser\\2 Two Area System without WADC.IntPrj\\Network Model.IntPrjfolder\\Network Data.IntPrjfolder\\Grid.ElmNet\\B09.ElmSubstat\\CB1.ElmCoup</l3>\n<l3>\\Miguel.IntUser\\2 Two Area System without WADC.IntPrj\\Network Model.IntPrjfolder\\Network Data.IntPrjfolder\\Grid.ElmNet\\B09.ElmSubstat\\CB2.ElmCoup</l3>\n<l3>\\Miguel.IntUser\\2 Two Area System without WADC.IntPrj\\Network Model.IntPrjfolder\\Network Data.IntPrjfolder\\Grid.ElmNet\\B09.ElmSubstat\\CB3.ElmCoup</l3>\n<l3>\\Miguel.IntUser\\2 Two Area System without WADC.IntPrj\\Network Model.IntPrjfolder\\Network Data.IntPrjfolder\\Grid.ElmNet\\B09.ElmSubstat\\CB4.ElmCoup</l3>\n<l3>\\Miguel.IntUser\\2 Two Area System without WADC.IntPrj\\Network Model.IntPrjfolder\\Network Data.IntPrjfolder\\Grid.ElmNet\\B09.ElmSubstat\\CB5.ElmCoup</l3>\n<l3>\\Miguel.IntUser\\2 Two Area System without WADC.IntPrj\\Network Model.IntPrjfolder\\Network Data.IntPrjfolder\\Grid.ElmNet\\B09.ElmSubstat\\IS1.1.ElmCoup</l3>\n<l3>\\Miguel.IntUser\\2 Two Area System without WADC.IntPrj\\Network Model.IntPrjfolder\\Network Data.IntPrjfolder\\Grid.ElmNet\\B09.ElmSubstat\\IS1.2.ElmCoup</l3>\n<l3>\\Miguel.IntUser\\2 Two Area System without WADC.IntPrj\\Network Model.IntPrjfolder\\Network Data.IntPrjfolder\\Grid.ElmNet\\B09.ElmSubstat\\IS2.1.ElmCoup</l3>\n<l3>\\Miguel.IntUser\\2 Two Area System without WADC.IntPrj\\Network Model.IntPrjfolder\\Network Data.IntPrjfolder\\Grid.ElmNet\\B09.ElmSubstat\\IS2.2.ElmCoup</l3>\n<l3>\\Miguel.IntUser\\2 Two Area System without WADC.IntPrj\\Network Model.IntPrjfolder\\Network Data.IntPrjfolder\\Grid.ElmNet\\B09.ElmSubstat\\IS3.1.ElmCoup</l3>\n<l3>\\Miguel.IntUser\\2 Two Area System without WADC.IntPrj\\Network Model.IntPrjfolder\\Network Data.IntPrjfolder\\Grid.ElmNet\\B09.ElmSubstat\\IS3.2.ElmCoup</l3>\n<l3>\\Miguel.IntUser\\2 Two Area System without WADC.IntPrj\\Network Model.IntPrjfolder\\Network Data.IntPrjfolder\\Grid.ElmNet\\B09.ElmSubstat\\IS4.1.ElmCoup</l3>\n<l3>\\Miguel.IntUser\\2 Two Area System without WADC.IntPrj\\Network Model.IntPrjfolder\\Network Data.IntPrjfolder\\Grid.ElmNet\\B09.ElmSubstat\\IS4.2.ElmCoup</l3>\n<l3>\\Miguel.IntUser\\2 Two Area System without WADC.IntPrj\\Network Model.IntPrjfolder\\Network Data.IntPrjfolder\\Grid.ElmNet\\B09.ElmSubstat\\IS5.1.ElmCoup</l3>\n<l3>\\Miguel.IntUser\\2 Two Area System without WADC.IntPrj\\Network Model.IntPrjfolder\\Network Data.IntPrjfolder\\Grid.ElmNet\\B09.ElmSubstat\\IS5.2.ElmCoup</l3>\n<l3>\\Miguel.IntUser\\2 Two Area System without WADC.IntPrj\\Network Model.IntPrjfolder\\Network Data.IntPrjfolder\\Grid.ElmNet\\B09.ElmSubstat\\1.ElmTerm</l3>\n<l3>\\Miguel.IntUser\\2 Two Area System without WADC.IntPrj\\Network Model.IntPrjfolder\\Network Data.IntPrjfolder\\Grid.ElmNet\\B09.ElmSubstat\\2.ElmTerm</l3>\n<l3>\\Miguel.IntUser\\2 Two Area System without WADC.IntPrj\\Network Model.IntPrjfolder\\Network Data.IntPrjfolder\\Grid.ElmNet\\B09.ElmSubstat\\3.ElmTerm</l3>\n<l3>\\Miguel.IntUser\\2 Two Area System without WADC.IntPrj\\Network Model.IntPrjfolder\\Network Data.IntPrjfolder\\Grid.ElmNet\\B09.ElmSubstat\\4.ElmTerm</l3>\n<l3>\\Miguel.IntUser\\2 Two Area System without WADC.IntPrj\\Network Model.IntPrjfolder\\Network Data.IntPrjfolder\\Grid.ElmNet\\B09.ElmSubstat\\5.ElmTerm</l3>\n<l3>\\Miguel.IntUser\\2 Two Area System without WADC.IntPrj\\Network Model.IntPrjfolder\\Network Data.IntPrjfolder\\Grid.ElmNet\\B09.ElmSubstat\\B09.ElmTerm</l3>\n<l3>\\Miguel.IntUser\\2 Two Area System without WADC.IntPrj\\Network Model.IntPrjfolder\\Network Data.IntPrjfolder\\Grid.ElmNet\\B09.ElmSubstat\\T1.1.ElmTerm</l3>\n<l3>\\Miguel.IntUser\\2 Two Area System without WADC.IntPrj\\Network Model.IntPrjfolder\\Network Data.IntPrjfolder\\Grid.ElmNet\\B09.ElmSubstat\\T1.2.ElmTerm</l3>\n<l3>\\Miguel.IntUser\\2 Two Area System without WADC.IntPrj\\Network Model.IntPrjfolder\\Network Data.IntPrjfolder\\Grid.ElmNet\\B09.ElmSubstat\\T1.3.ElmTerm</l3>\n<l3>\\Miguel.IntUser\\2 Two Area System without WADC.IntPrj\\Network Model.IntPrjfolder\\Network Data.IntPrjfolder\\Grid.ElmNet\\B09.ElmSubstat\\T1.4.ElmTerm</l3>\n<l3>\\Miguel.IntUser\\2 Two Area System without WADC.IntPrj\\Network Model.IntPrjfolder\\Network Data.IntPrjfolder\\Grid.ElmNet\\B09.ElmSubstat\\T2.1.ElmTerm</l3>\n<l3>\\Miguel.IntUser\\2 Two Area System without WADC.IntPrj\\Network Model.IntPrjfolder\\Network Data.IntPrjfolder\\Grid.ElmNet\\B09.ElmSubstat\\T2.2.ElmTerm</l3>\n<l3>\\Miguel.IntUser\\2 Two Area System without WADC.IntPrj\\Network Model.IntPrjfolder\\Network Data.IntPrjfolder\\Grid.ElmNet\\B09.ElmSubstat\\T2.3.ElmTerm</l3>\n<l3>\\Miguel.IntUser\\2 Two Area System without WADC.IntPrj\\Network Model.IntPrjfolder\\Network Data.IntPrjfolder\\Grid.ElmNet\\B09.ElmSubstat\\T2.3(1).ElmTerm</l3>\n<l3>\\Miguel.IntUser\\2 Two Area System without WADC.IntPrj\\Network Model.IntPrjfolder\\Network Data.IntPrjfolder\\Grid.ElmNet\\B09.ElmSubstat\\T2.4.ElmTerm</l3>\n<l3>\\Miguel.IntUser\\2 Two Area System without WADC.IntPrj\\Network Model.IntPrjfolder\\Network Data.IntPrjfolder\\Grid.ElmNet\\B09.ElmSubstat\\T2.5.ElmTerm</l3>\nB10\n<l3>\\Miguel.IntUser\\2 Two Area System without WADC.IntPrj\\Network Model.IntPrjfolder\\Network Data.IntPrjfolder\\Grid.ElmNet\\B10.ElmSubstat\\CB1.ElmCoup</l3>\n<l3>\\Miguel.IntUser\\2 Two Area System without WADC.IntPrj\\Network Model.IntPrjfolder\\Network Data.IntPrjfolder\\Grid.ElmNet\\B10.ElmSubstat\\CB2.ElmCoup</l3>\n<l3>\\Miguel.IntUser\\2 Two Area System without WADC.IntPrj\\Network Model.IntPrjfolder\\Network Data.IntPrjfolder\\Grid.ElmNet\\B10.ElmSubstat\\CB3.ElmCoup</l3>\n<l3>\\Miguel.IntUser\\2 Two Area System without WADC.IntPrj\\Network Model.IntPrjfolder\\Network Data.IntPrjfolder\\Grid.ElmNet\\B10.ElmSubstat\\CB4.ElmCoup</l3>\n<l3>\\Miguel.IntUser\\2 Two Area System without WADC.IntPrj\\Network Model.IntPrjfolder\\Network Data.IntPrjfolder\\Grid.ElmNet\\B10.ElmSubstat\\IS1.1.ElmCoup</l3>\n<l3>\\Miguel.IntUser\\2 Two Area System without WADC.IntPrj\\Network Model.IntPrjfolder\\Network Data.IntPrjfolder\\Grid.ElmNet\\B10.ElmSubstat\\IS1.2.ElmCoup</l3>\n<l3>\\Miguel.IntUser\\2 Two Area System without WADC.IntPrj\\Network Model.IntPrjfolder\\Network Data.IntPrjfolder\\Grid.ElmNet\\B10.ElmSubstat\\IS2.1.ElmCoup</l3>\n<l3>\\Miguel.IntUser\\2 Two Area System without WADC.IntPrj\\Network Model.IntPrjfolder\\Network Data.IntPrjfolder\\Grid.ElmNet\\B10.ElmSubstat\\IS2.2.ElmCoup</l3>\n<l3>\\Miguel.IntUser\\2 Two Area System without WADC.IntPrj\\Network Model.IntPrjfolder\\Network Data.IntPrjfolder\\Grid.ElmNet\\B10.ElmSubstat\\IS3.1.ElmCoup</l3>\n<l3>\\Miguel.IntUser\\2 Two Area System without WADC.IntPrj\\Network Model.IntPrjfolder\\Network Data.IntPrjfolder\\Grid.ElmNet\\B10.ElmSubstat\\IS3.2.ElmCoup</l3>\n<l3>\\Miguel.IntUser\\2 Two Area System without WADC.IntPrj\\Network Model.IntPrjfolder\\Network Data.IntPrjfolder\\Grid.ElmNet\\B10.ElmSubstat\\IS4.1.ElmCoup</l3>\n<l3>\\Miguel.IntUser\\2 Two Area System without WADC.IntPrj\\Network Model.IntPrjfolder\\Network Data.IntPrjfolder\\Grid.ElmNet\\B10.ElmSubstat\\IS4.2.ElmCoup</l3>\n<l3>\\Miguel.IntUser\\2 Two Area System without WADC.IntPrj\\Network Model.IntPrjfolder\\Network Data.IntPrjfolder\\Grid.ElmNet\\B10.ElmSubstat\\1.ElmTerm</l3>\n<l3>\\Miguel.IntUser\\2 Two Area System without WADC.IntPrj\\Network Model.IntPrjfolder\\Network Data.IntPrjfolder\\Grid.ElmNet\\B10.ElmSubstat\\2.ElmTerm</l3>\n<l3>\\Miguel.IntUser\\2 Two Area System without WADC.IntPrj\\Network Model.IntPrjfolder\\Network Data.IntPrjfolder\\Grid.ElmNet\\B10.ElmSubstat\\3.ElmTerm</l3>\n<l3>\\Miguel.IntUser\\2 Two Area System without WADC.IntPrj\\Network Model.IntPrjfolder\\Network Data.IntPrjfolder\\Grid.ElmNet\\B10.ElmSubstat\\4.ElmTerm</l3>\n<l3>\\Miguel.IntUser\\2 Two Area System without WADC.IntPrj\\Network Model.IntPrjfolder\\Network Data.IntPrjfolder\\Grid.ElmNet\\B10.ElmSubstat\\B10.ElmTerm</l3>\n<l3>\\Miguel.IntUser\\2 Two Area System without WADC.IntPrj\\Network Model.IntPrjfolder\\Network Data.IntPrjfolder\\Grid.ElmNet\\B10.ElmSubstat\\T1.1.ElmTerm</l3>\n<l3>\\Miguel.IntUser\\2 Two Area System without WADC.IntPrj\\Network Model.IntPrjfolder\\Network Data.IntPrjfolder\\Grid.ElmNet\\B10.ElmSubstat\\T1.2.ElmTerm</l3>\n<l3>\\Miguel.IntUser\\2 Two Area System without WADC.IntPrj\\Network Model.IntPrjfolder\\Network Data.IntPrjfolder\\Grid.ElmNet\\B10.ElmSubstat\\T1.3.ElmTerm</l3>\n<l3>\\Miguel.IntUser\\2 Two Area System without WADC.IntPrj\\Network Model.IntPrjfolder\\Network Data.IntPrjfolder\\Grid.ElmNet\\B10.ElmSubstat\\T1.4.ElmTerm</l3>\n<l3>\\Miguel.IntUser\\2 Two Area System without WADC.IntPrj\\Network Model.IntPrjfolder\\Network Data.IntPrjfolder\\Grid.ElmNet\\B10.ElmSubstat\\T2.1.ElmTerm</l3>\n<l3>\\Miguel.IntUser\\2 Two Area System without WADC.IntPrj\\Network Model.IntPrjfolder\\Network Data.IntPrjfolder\\Grid.ElmNet\\B10.ElmSubstat\\T2.2.ElmTerm</l3>\n<l3>\\Miguel.IntUser\\2 Two Area System without WADC.IntPrj\\Network Model.IntPrjfolder\\Network Data.IntPrjfolder\\Grid.ElmNet\\B10.ElmSubstat\\T2.3.ElmTerm</l3>\n<l3>\\Miguel.IntUser\\2 Two Area System without WADC.IntPrj\\Network Model.IntPrjfolder\\Network Data.IntPrjfolder\\Grid.ElmNet\\B10.ElmSubstat\\T2.4.ElmTerm</l3>\nB11\n<l3>\\Miguel.IntUser\\2 Two Area System without WADC.IntPrj\\Network Model.IntPrjfolder\\Network Data.IntPrjfolder\\Grid.ElmNet\\B11.ElmSubstat\\CB1.ElmCoup</l3>\n<l3>\\Miguel.IntUser\\2 Two Area System without WADC.IntPrj\\Network Model.IntPrjfolder\\Network Data.IntPrjfolder\\Grid.ElmNet\\B11.ElmSubstat\\CB2.ElmCoup</l3>\n<l3>\\Miguel.IntUser\\2 Two Area System without WADC.IntPrj\\Network Model.IntPrjfolder\\Network Data.IntPrjfolder\\Grid.ElmNet\\B11.ElmSubstat\\CB3.ElmCoup</l3>\n<l3>\\Miguel.IntUser\\2 Two Area System without WADC.IntPrj\\Network Model.IntPrjfolder\\Network Data.IntPrjfolder\\Grid.ElmNet\\B11.ElmSubstat\\CB4.ElmCoup</l3>\n<l3>\\Miguel.IntUser\\2 Two Area System without WADC.IntPrj\\Network Model.IntPrjfolder\\Network Data.IntPrjfolder\\Grid.ElmNet\\B11.ElmSubstat\\IS1.1.ElmCoup</l3>\n<l3>\\Miguel.IntUser\\2 Two Area System without WADC.IntPrj\\Network Model.IntPrjfolder\\Network Data.IntPrjfolder\\Grid.ElmNet\\B11.ElmSubstat\\IS1.2.ElmCoup</l3>\n<l3>\\Miguel.IntUser\\2 Two Area System without WADC.IntPrj\\Network Model.IntPrjfolder\\Network Data.IntPrjfolder\\Grid.ElmNet\\B11.ElmSubstat\\IS2.1.ElmCoup</l3>\n<l3>\\Miguel.IntUser\\2 Two Area System without WADC.IntPrj\\Network Model.IntPrjfolder\\Network Data.IntPrjfolder\\Grid.ElmNet\\B11.ElmSubstat\\IS2.2.ElmCoup</l3>\n<l3>\\Miguel.IntUser\\2 Two Area System without WADC.IntPrj\\Network Model.IntPrjfolder\\Network Data.IntPrjfolder\\Grid.ElmNet\\B11.ElmSubstat\\IS3.1.ElmCoup</l3>\n<l3>\\Miguel.IntUser\\2 Two Area System without WADC.IntPrj\\Network Model.IntPrjfolder\\Network Data.IntPrjfolder\\Grid.ElmNet\\B11.ElmSubstat\\IS3.2.ElmCoup</l3>\n<l3>\\Miguel.IntUser\\2 Two Area System without WADC.IntPrj\\Network Model.IntPrjfolder\\Network Data.IntPrjfolder\\Grid.ElmNet\\B11.ElmSubstat\\IS4.1.ElmCoup</l3>\n<l3>\\Miguel.IntUser\\2 Two Area System without WADC.IntPrj\\Network Model.IntPrjfolder\\Network Data.IntPrjfolder\\Grid.ElmNet\\B11.ElmSubstat\\IS4.2.ElmCoup</l3>\n<l3>\\Miguel.IntUser\\2 Two Area System without WADC.IntPrj\\Network Model.IntPrjfolder\\Network Data.IntPrjfolder\\Grid.ElmNet\\B11.ElmSubstat\\1.ElmTerm</l3>\n<l3>\\Miguel.IntUser\\2 Two Area System without WADC.IntPrj\\Network Model.IntPrjfolder\\Network Data.IntPrjfolder\\Grid.ElmNet\\B11.ElmSubstat\\2.ElmTerm</l3>\n<l3>\\Miguel.IntUser\\2 Two Area System without WADC.IntPrj\\Network Model.IntPrjfolder\\Network Data.IntPrjfolder\\Grid.ElmNet\\B11.ElmSubstat\\3.ElmTerm</l3>\n<l3>\\Miguel.IntUser\\2 Two Area System without WADC.IntPrj\\Network Model.IntPrjfolder\\Network Data.IntPrjfolder\\Grid.ElmNet\\B11.ElmSubstat\\4.ElmTerm</l3>\n<l3>\\Miguel.IntUser\\2 Two Area System without WADC.IntPrj\\Network Model.IntPrjfolder\\Network Data.IntPrjfolder\\Grid.ElmNet\\B11.ElmSubstat\\B11.ElmTerm</l3>\n<l3>\\Miguel.IntUser\\2 Two Area System without WADC.IntPrj\\Network Model.IntPrjfolder\\Network Data.IntPrjfolder\\Grid.ElmNet\\B11.ElmSubstat\\T1.1.ElmTerm</l3>\n<l3>\\Miguel.IntUser\\2 Two Area System without WADC.IntPrj\\Network Model.IntPrjfolder\\Network Data.IntPrjfolder\\Grid.ElmNet\\B11.ElmSubstat\\T1.2.ElmTerm</l3>\n<l3>\\Miguel.IntUser\\2 Two Area System without WADC.IntPrj\\Network Model.IntPrjfolder\\Network Data.IntPrjfolder\\Grid.ElmNet\\B11.ElmSubstat\\T1.3.ElmTerm</l3>\n<l3>\\Miguel.IntUser\\2 Two Area System without WADC.IntPrj\\Network Model.IntPrjfolder\\Network Data.IntPrjfolder\\Grid.ElmNet\\B11.ElmSubstat\\T1.4.ElmTerm</l3>\n<l3>\\Miguel.IntUser\\2 Two Area System without WADC.IntPrj\\Network Model.IntPrjfolder\\Network Data.IntPrjfolder\\Grid.ElmNet\\B11.ElmSubstat\\T2.1.ElmTerm</l3>\n<l3>\\Miguel.IntUser\\2 Two Area System without WADC.IntPrj\\Network Model.IntPrjfolder\\Network Data.IntPrjfolder\\Grid.ElmNet\\B11.ElmSubstat\\T2.2.ElmTerm</l3>\n<l3>\\Miguel.IntUser\\2 Two Area System without WADC.IntPrj\\Network Model.IntPrjfolder\\Network Data.IntPrjfolder\\Grid.ElmNet\\B11.ElmSubstat\\T2.3.ElmTerm</l3>\n<l3>\\Miguel.IntUser\\2 Two Area System without WADC.IntPrj\\Network Model.IntPrjfolder\\Network Data.IntPrjfolder\\Grid.ElmNet\\B11.ElmSubstat\\T2.4.ElmTerm</l3>\nSub 01\n<l3>\\Miguel.IntUser\\2 Two Area System without WADC.IntPrj\\Network Model.IntPrjfolder\\Network Data.IntPrjfolder\\Grid.ElmNet\\Sub 01.ElmSubstat\\CB1.ElmCoup</l3>\n<l3>\\Miguel.IntUser\\2 Two Area System without WADC.IntPrj\\Network Model.IntPrjfolder\\Network Data.IntPrjfolder\\Grid.ElmNet\\Sub 01.ElmSubstat\\CB2.ElmCoup</l3>\n<l3>\\Miguel.IntUser\\2 Two Area System without WADC.IntPrj\\Network Model.IntPrjfolder\\Network Data.IntPrjfolder\\Grid.ElmNet\\Sub 01.ElmSubstat\\CB3.ElmCoup</l3>\n<l3>\\Miguel.IntUser\\2 Two Area System without WADC.IntPrj\\Network Model.IntPrjfolder\\Network Data.IntPrjfolder\\Grid.ElmNet\\Sub 01.ElmSubstat\\CB4.ElmCoup</l3>\n<l3>\\Miguel.IntUser\\2 Two Area System without WADC.IntPrj\\Network Model.IntPrjfolder\\Network Data.IntPrjfolder\\Grid.ElmNet\\Sub 01.ElmSubstat\\IS1.1.ElmCoup</l3>\n<l3>\\Miguel.IntUser\\2 Two Area System without WADC.IntPrj\\Network Model.IntPrjfolder\\Network Data.IntPrjfolder\\Grid.ElmNet\\Sub 01.ElmSubstat\\IS1.2.ElmCoup</l3>\n<l3>\\Miguel.IntUser\\2 Two Area System without WADC.IntPrj\\Network Model.IntPrjfolder\\Network Data.IntPrjfolder\\Grid.ElmNet\\Sub 01.ElmSubstat\\IS2.1.ElmCoup</l3>\n<l3>\\Miguel.IntUser\\2 Two Area System without WADC.IntPrj\\Network Model.IntPrjfolder\\Network Data.IntPrjfolder\\Grid.ElmNet\\Sub 01.ElmSubstat\\IS2.2.ElmCoup</l3>\n<l3>\\Miguel.IntUser\\2 Two Area System without WADC.IntPrj\\Network Model.IntPrjfolder\\Network Data.IntPrjfolder\\Grid.ElmNet\\Sub 01.ElmSubstat\\IS3.1.ElmCoup</l3>\n<l3>\\Miguel.IntUser\\2 Two Area System without WADC.IntPrj\\Network Model.IntPrjfolder\\Network Data.IntPrjfolder\\Grid.ElmNet\\Sub 01.ElmSubstat\\IS3.2.ElmCoup</l3>\n<l3>\\Miguel.IntUser\\2 Two Area System without WADC.IntPrj\\Network Model.IntPrjfolder\\Network Data.IntPrjfolder\\Grid.ElmNet\\Sub 01.ElmSubstat\\IS4.1.ElmCoup</l3>\n<l3>\\Miguel.IntUser\\2 Two Area System without WADC.IntPrj\\Network Model.IntPrjfolder\\Network Data.IntPrjfolder\\Grid.ElmNet\\Sub 01.ElmSubstat\\IS4.2.ElmCoup</l3>\n<l3>\\Miguel.IntUser\\2 Two Area System without WADC.IntPrj\\Network Model.IntPrjfolder\\Network Data.IntPrjfolder\\Grid.ElmNet\\Sub 01.ElmSubstat\\1.ElmTerm</l3>\n<l3>\\Miguel.IntUser\\2 Two Area System without WADC.IntPrj\\Network Model.IntPrjfolder\\Network Data.IntPrjfolder\\Grid.ElmNet\\Sub 01.ElmSubstat\\2.ElmTerm</l3>\n<l3>\\Miguel.IntUser\\2 Two Area System without WADC.IntPrj\\Network Model.IntPrjfolder\\Network Data.IntPrjfolder\\Grid.ElmNet\\Sub 01.ElmSubstat\\3.ElmTerm</l3>\n<l3>\\Miguel.IntUser\\2 Two Area System without WADC.IntPrj\\Network Model.IntPrjfolder\\Network Data.IntPrjfolder\\Grid.ElmNet\\Sub 01.ElmSubstat\\4.ElmTerm</l3>\n<l3>\\Miguel.IntUser\\2 Two Area System without WADC.IntPrj\\Network Model.IntPrjfolder\\Network Data.IntPrjfolder\\Grid.ElmNet\\Sub 01.ElmSubstat\\B01.ElmTerm</l3>\n<l3>\\Miguel.IntUser\\2 Two Area System without WADC.IntPrj\\Network Model.IntPrjfolder\\Network Data.IntPrjfolder\\Grid.ElmNet\\Sub 01.ElmSubstat\\T1.1.ElmTerm</l3>\n<l3>\\Miguel.IntUser\\2 Two Area System without WADC.IntPrj\\Network Model.IntPrjfolder\\Network Data.IntPrjfolder\\Grid.ElmNet\\Sub 01.ElmSubstat\\T1.2.ElmTerm</l3>\n<l3>\\Miguel.IntUser\\2 Two Area System without WADC.IntPrj\\Network Model.IntPrjfolder\\Network Data.IntPrjfolder\\Grid.ElmNet\\Sub 01.ElmSubstat\\T1.3.ElmTerm</l3>\n<l3>\\Miguel.IntUser\\2 Two Area System without WADC.IntPrj\\Network Model.IntPrjfolder\\Network Data.IntPrjfolder\\Grid.ElmNet\\Sub 01.ElmSubstat\\T1.4.ElmTerm</l3>\n<l3>\\Miguel.IntUser\\2 Two Area System without WADC.IntPrj\\Network Model.IntPrjfolder\\Network Data.IntPrjfolder\\Grid.ElmNet\\Sub 01.ElmSubstat\\T2.1.ElmTerm</l3>\n<l3>\\Miguel.IntUser\\2 Two Area System without WADC.IntPrj\\Network Model.IntPrjfolder\\Network Data.IntPrjfolder\\Grid.ElmNet\\Sub 01.ElmSubstat\\T2.2.ElmTerm</l3>\n<l3>\\Miguel.IntUser\\2 Two Area System without WADC.IntPrj\\Network Model.IntPrjfolder\\Network Data.IntPrjfolder\\Grid.ElmNet\\Sub 01.ElmSubstat\\T2.3.ElmTerm</l3>\n<l3>\\Miguel.IntUser\\2 Two Area System without WADC.IntPrj\\Network Model.IntPrjfolder\\Network Data.IntPrjfolder\\Grid.ElmNet\\Sub 01.ElmSubstat\\T2.4.ElmTerm</l3>\nSub 02\n<l3>\\Miguel.IntUser\\2 Two Area System without WADC.IntPrj\\Network Model.IntPrjfolder\\Network Data.IntPrjfolder\\Grid.ElmNet\\Sub 02.ElmSubstat\\CB1.ElmCoup</l3>\n<l3>\\Miguel.IntUser\\2 Two Area System without WADC.IntPrj\\Network Model.IntPrjfolder\\Network Data.IntPrjfolder\\Grid.ElmNet\\Sub 02.ElmSubstat\\CB2.ElmCoup</l3>\n<l3>\\Miguel.IntUser\\2 Two Area System without WADC.IntPrj\\Network Model.IntPrjfolder\\Network Data.IntPrjfolder\\Grid.ElmNet\\Sub 02.ElmSubstat\\CB3.ElmCoup</l3>\n<l3>\\Miguel.IntUser\\2 Two Area System without WADC.IntPrj\\Network Model.IntPrjfolder\\Network Data.IntPrjfolder\\Grid.ElmNet\\Sub 02.ElmSubstat\\CB4.ElmCoup</l3>\n<l3>\\Miguel.IntUser\\2 Two Area System without WADC.IntPrj\\Network Model.IntPrjfolder\\Network Data.IntPrjfolder\\Grid.ElmNet\\Sub 02.ElmSubstat\\IS1.1.ElmCoup</l3>\n<l3>\\Miguel.IntUser\\2 Two Area System without WADC.IntPrj\\Network Model.IntPrjfolder\\Network Data.IntPrjfolder\\Grid.ElmNet\\Sub 02.ElmSubstat\\IS1.2.ElmCoup</l3>\n<l3>\\Miguel.IntUser\\2 Two Area System without WADC.IntPrj\\Network Model.IntPrjfolder\\Network Data.IntPrjfolder\\Grid.ElmNet\\Sub 02.ElmSubstat\\IS2.1.ElmCoup</l3>\n<l3>\\Miguel.IntUser\\2 Two Area System without WADC.IntPrj\\Network Model.IntPrjfolder\\Network Data.IntPrjfolder\\Grid.ElmNet\\Sub 02.ElmSubstat\\IS2.2.ElmCoup</l3>\n<l3>\\Miguel.IntUser\\2 Two Area System without WADC.IntPrj\\Network Model.IntPrjfolder\\Network Data.IntPrjfolder\\Grid.ElmNet\\Sub 02.ElmSubstat\\IS3.1.ElmCoup</l3>\n<l3>\\Miguel.IntUser\\2 Two Area System without WADC.IntPrj\\Network Model.IntPrjfolder\\Network Data.IntPrjfolder\\Grid.ElmNet\\Sub 02.ElmSubstat\\IS3.2.ElmCoup</l3>\n<l3>\\Miguel.IntUser\\2 Two Area System without WADC.IntPrj\\Network Model.IntPrjfolder\\Network Data.IntPrjfolder\\Grid.ElmNet\\Sub 02.ElmSubstat\\IS4.1.ElmCoup</l3>\n<l3>\\Miguel.IntUser\\2 Two Area System without WADC.IntPrj\\Network Model.IntPrjfolder\\Network Data.IntPrjfolder\\Grid.ElmNet\\Sub 02.ElmSubstat\\IS4.2.ElmCoup</l3>\n<l3>\\Miguel.IntUser\\2 Two Area System without WADC.IntPrj\\Network Model.IntPrjfolder\\Network Data.IntPrjfolder\\Grid.ElmNet\\Sub 02.ElmSubstat\\1.ElmTerm</l3>\n<l3>\\Miguel.IntUser\\2 Two Area System without WADC.IntPrj\\Network Model.IntPrjfolder\\Network Data.IntPrjfolder\\Grid.ElmNet\\Sub 02.ElmSubstat\\2.ElmTerm</l3>\n<l3>\\Miguel.IntUser\\2 Two Area System without WADC.IntPrj\\Network Model.IntPrjfolder\\Network Data.IntPrjfolder\\Grid.ElmNet\\Sub 02.ElmSubstat\\3.ElmTerm</l3>\n<l3>\\Miguel.IntUser\\2 Two Area System without WADC.IntPrj\\Network Model.IntPrjfolder\\Network Data.IntPrjfolder\\Grid.ElmNet\\Sub 02.ElmSubstat\\4.ElmTerm</l3>\n<l3>\\Miguel.IntUser\\2 Two Area System without WADC.IntPrj\\Network Model.IntPrjfolder\\Network Data.IntPrjfolder\\Grid.ElmNet\\Sub 02.ElmSubstat\\B02.ElmTerm</l3>\n<l3>\\Miguel.IntUser\\2 Two Area System without WADC.IntPrj\\Network Model.IntPrjfolder\\Network Data.IntPrjfolder\\Grid.ElmNet\\Sub 02.ElmSubstat\\T1.1.ElmTerm</l3>\n<l3>\\Miguel.IntUser\\2 Two Area System without WADC.IntPrj\\Network Model.IntPrjfolder\\Network Data.IntPrjfolder\\Grid.ElmNet\\Sub 02.ElmSubstat\\T1.2.ElmTerm</l3>\n<l3>\\Miguel.IntUser\\2 Two Area System without WADC.IntPrj\\Network Model.IntPrjfolder\\Network Data.IntPrjfolder\\Grid.ElmNet\\Sub 02.ElmSubstat\\T1.3.ElmTerm</l3>\n<l3>\\Miguel.IntUser\\2 Two Area System without WADC.IntPrj\\Network Model.IntPrjfolder\\Network Data.IntPrjfolder\\Grid.ElmNet\\Sub 02.ElmSubstat\\T1.4.ElmTerm</l3>\n<l3>\\Miguel.IntUser\\2 Two Area System without WADC.IntPrj\\Network Model.IntPrjfolder\\Network Data.IntPrjfolder\\Grid.ElmNet\\Sub 02.ElmSubstat\\T2.1.ElmTerm</l3>\n<l3>\\Miguel.IntUser\\2 Two Area System without WADC.IntPrj\\Network Model.IntPrjfolder\\Network Data.IntPrjfolder\\Grid.ElmNet\\Sub 02.ElmSubstat\\T2.2.ElmTerm</l3>\n<l3>\\Miguel.IntUser\\2 Two Area System without WADC.IntPrj\\Network Model.IntPrjfolder\\Network Data.IntPrjfolder\\Grid.ElmNet\\Sub 02.ElmSubstat\\T2.3.ElmTerm</l3>\n<l3>\\Miguel.IntUser\\2 Two Area System without WADC.IntPrj\\Network Model.IntPrjfolder\\Network Data.IntPrjfolder\\Grid.ElmNet\\Sub 02.ElmSubstat\\T2.4.ElmTerm</l3>\nSub 03\n<l3>\\Miguel.IntUser\\2 Two Area System without WADC.IntPrj\\Network Model.IntPrjfolder\\Network Data.IntPrjfolder\\Grid.ElmNet\\Sub 03.ElmSubstat\\CB1.ElmCoup</l3>\n<l3>\\Miguel.IntUser\\2 Two Area System without WADC.IntPrj\\Network Model.IntPrjfolder\\Network Data.IntPrjfolder\\Grid.ElmNet\\Sub 03.ElmSubstat\\CB2.ElmCoup</l3>\n<l3>\\Miguel.IntUser\\2 Two Area System without WADC.IntPrj\\Network Model.IntPrjfolder\\Network Data.IntPrjfolder\\Grid.ElmNet\\Sub 03.ElmSubstat\\CB3.ElmCoup</l3>\n<l3>\\Miguel.IntUser\\2 Two Area System without WADC.IntPrj\\Network Model.IntPrjfolder\\Network Data.IntPrjfolder\\Grid.ElmNet\\Sub 03.ElmSubstat\\CB4.ElmCoup</l3>\n<l3>\\Miguel.IntUser\\2 Two Area System without WADC.IntPrj\\Network Model.IntPrjfolder\\Network Data.IntPrjfolder\\Grid.ElmNet\\Sub 03.ElmSubstat\\IS1.1.ElmCoup</l3>\n<l3>\\Miguel.IntUser\\2 Two Area System without WADC.IntPrj\\Network Model.IntPrjfolder\\Network Data.IntPrjfolder\\Grid.ElmNet\\Sub 03.ElmSubstat\\IS1.2.ElmCoup</l3>\n<l3>\\Miguel.IntUser\\2 Two Area System without WADC.IntPrj\\Network Model.IntPrjfolder\\Network Data.IntPrjfolder\\Grid.ElmNet\\Sub 03.ElmSubstat\\IS2.1.ElmCoup</l3>\n<l3>\\Miguel.IntUser\\2 Two Area System without WADC.IntPrj\\Network Model.IntPrjfolder\\Network Data.IntPrjfolder\\Grid.ElmNet\\Sub 03.ElmSubstat\\IS2.2.ElmCoup</l3>\n<l3>\\Miguel.IntUser\\2 Two Area System without WADC.IntPrj\\Network Model.IntPrjfolder\\Network Data.IntPrjfolder\\Grid.ElmNet\\Sub 03.ElmSubstat\\IS3.1.ElmCoup</l3>\n<l3>\\Miguel.IntUser\\2 Two Area System without WADC.IntPrj\\Network Model.IntPrjfolder\\Network Data.IntPrjfolder\\Grid.ElmNet\\Sub 03.ElmSubstat\\IS3.2.ElmCoup</l3>\n<l3>\\Miguel.IntUser\\2 Two Area System without WADC.IntPrj\\Network Model.IntPrjfolder\\Network Data.IntPrjfolder\\Grid.ElmNet\\Sub 03.ElmSubstat\\IS4.1.ElmCoup</l3>\n<l3>\\Miguel.IntUser\\2 Two Area System without WADC.IntPrj\\Network Model.IntPrjfolder\\Network Data.IntPrjfolder\\Grid.ElmNet\\Sub 03.ElmSubstat\\IS4.2.ElmCoup</l3>\n<l3>\\Miguel.IntUser\\2 Two Area System without WADC.IntPrj\\Network Model.IntPrjfolder\\Network Data.IntPrjfolder\\Grid.ElmNet\\Sub 03.ElmSubstat\\1.ElmTerm</l3>\n<l3>\\Miguel.IntUser\\2 Two Area System without WADC.IntPrj\\Network Model.IntPrjfolder\\Network Data.IntPrjfolder\\Grid.ElmNet\\Sub 03.ElmSubstat\\2.ElmTerm</l3>\n<l3>\\Miguel.IntUser\\2 Two Area System without WADC.IntPrj\\Network Model.IntPrjfolder\\Network Data.IntPrjfolder\\Grid.ElmNet\\Sub 03.ElmSubstat\\3.ElmTerm</l3>\n<l3>\\Miguel.IntUser\\2 Two Area System without WADC.IntPrj\\Network Model.IntPrjfolder\\Network Data.IntPrjfolder\\Grid.ElmNet\\Sub 03.ElmSubstat\\4.ElmTerm</l3>\n<l3>\\Miguel.IntUser\\2 Two Area System without WADC.IntPrj\\Network Model.IntPrjfolder\\Network Data.IntPrjfolder\\Grid.ElmNet\\Sub 03.ElmSubstat\\B03.ElmTerm</l3>\n<l3>\\Miguel.IntUser\\2 Two Area System without WADC.IntPrj\\Network Model.IntPrjfolder\\Network Data.IntPrjfolder\\Grid.ElmNet\\Sub 03.ElmSubstat\\T1.1.ElmTerm</l3>\n<l3>\\Miguel.IntUser\\2 Two Area System without WADC.IntPrj\\Network Model.IntPrjfolder\\Network Data.IntPrjfolder\\Grid.ElmNet\\Sub 03.ElmSubstat\\T1.2.ElmTerm</l3>\n<l3>\\Miguel.IntUser\\2 Two Area System without WADC.IntPrj\\Network Model.IntPrjfolder\\Network Data.IntPrjfolder\\Grid.ElmNet\\Sub 03.ElmSubstat\\T1.3.ElmTerm</l3>\n<l3>\\Miguel.IntUser\\2 Two Area System without WADC.IntPrj\\Network Model.IntPrjfolder\\Network Data.IntPrjfolder\\Grid.ElmNet\\Sub 03.ElmSubstat\\T1.4.ElmTerm</l3>\n<l3>\\Miguel.IntUser\\2 Two Area System without WADC.IntPrj\\Network Model.IntPrjfolder\\Network Data.IntPrjfolder\\Grid.ElmNet\\Sub 03.ElmSubstat\\T2.1.ElmTerm</l3>\n<l3>\\Miguel.IntUser\\2 Two Area System without WADC.IntPrj\\Network Model.IntPrjfolder\\Network Data.IntPrjfolder\\Grid.ElmNet\\Sub 03.ElmSubstat\\T2.2.ElmTerm</l3>\n<l3>\\Miguel.IntUser\\2 Two Area System without WADC.IntPrj\\Network Model.IntPrjfolder\\Network Data.IntPrjfolder\\Grid.ElmNet\\Sub 03.ElmSubstat\\T2.3.ElmTerm</l3>\n<l3>\\Miguel.IntUser\\2 Two Area System without WADC.IntPrj\\Network Model.IntPrjfolder\\Network Data.IntPrjfolder\\Grid.ElmNet\\Sub 03.ElmSubstat\\T2.4.ElmTerm</l3>\nSub 04\n<l3>\\Miguel.IntUser\\2 Two Area System without WADC.IntPrj\\Network Model.IntPrjfolder\\Network Data.IntPrjfolder\\Grid.ElmNet\\Sub 04.ElmSubstat\\CB1.ElmCoup</l3>\n<l3>\\Miguel.IntUser\\2 Two Area System without WADC.IntPrj\\Network Model.IntPrjfolder\\Network Data.IntPrjfolder\\Grid.ElmNet\\Sub 04.ElmSubstat\\CB2.ElmCoup</l3>\n<l3>\\Miguel.IntUser\\2 Two Area System without WADC.IntPrj\\Network Model.IntPrjfolder\\Network Data.IntPrjfolder\\Grid.ElmNet\\Sub 04.ElmSubstat\\CB3.ElmCoup</l3>\n<l3>\\Miguel.IntUser\\2 Two Area System without WADC.IntPrj\\Network Model.IntPrjfolder\\Network Data.IntPrjfolder\\Grid.ElmNet\\Sub 04.ElmSubstat\\CB4.ElmCoup</l3>\n<l3>\\Miguel.IntUser\\2 Two Area System without WADC.IntPrj\\Network Model.IntPrjfolder\\Network Data.IntPrjfolder\\Grid.ElmNet\\Sub 04.ElmSubstat\\IS1.1.ElmCoup</l3>\n<l3>\\Miguel.IntUser\\2 Two Area System without WADC.IntPrj\\Network Model.IntPrjfolder\\Network Data.IntPrjfolder\\Grid.ElmNet\\Sub 04.ElmSubstat\\IS1.2.ElmCoup</l3>\n<l3>\\Miguel.IntUser\\2 Two Area System without WADC.IntPrj\\Network Model.IntPrjfolder\\Network Data.IntPrjfolder\\Grid.ElmNet\\Sub 04.ElmSubstat\\IS2.1.ElmCoup</l3>\n<l3>\\Miguel.IntUser\\2 Two Area System without WADC.IntPrj\\Network Model.IntPrjfolder\\Network Data.IntPrjfolder\\Grid.ElmNet\\Sub 04.ElmSubstat\\IS2.2.ElmCoup</l3>\n<l3>\\Miguel.IntUser\\2 Two Area System without WADC.IntPrj\\Network Model.IntPrjfolder\\Network Data.IntPrjfolder\\Grid.ElmNet\\Sub 04.ElmSubstat\\IS3.1.ElmCoup</l3>\n<l3>\\Miguel.IntUser\\2 Two Area System without WADC.IntPrj\\Network Model.IntPrjfolder\\Network Data.IntPrjfolder\\Grid.ElmNet\\Sub 04.ElmSubstat\\IS3.2.ElmCoup</l3>\n<l3>\\Miguel.IntUser\\2 Two Area System without WADC.IntPrj\\Network Model.IntPrjfolder\\Network Data.IntPrjfolder\\Grid.ElmNet\\Sub 04.ElmSubstat\\IS4.1.ElmCoup</l3>\n<l3>\\Miguel.IntUser\\2 Two Area System without WADC.IntPrj\\Network Model.IntPrjfolder\\Network Data.IntPrjfolder\\Grid.ElmNet\\Sub 04.ElmSubstat\\IS4.2.ElmCoup</l3>\n<l3>\\Miguel.IntUser\\2 Two Area System without WADC.IntPrj\\Network Model.IntPrjfolder\\Network Data.IntPrjfolder\\Grid.ElmNet\\Sub 04.ElmSubstat\\1.ElmTerm</l3>\n<l3>\\Miguel.IntUser\\2 Two Area System without WADC.IntPrj\\Network Model.IntPrjfolder\\Network Data.IntPrjfolder\\Grid.ElmNet\\Sub 04.ElmSubstat\\2.ElmTerm</l3>\n<l3>\\Miguel.IntUser\\2 Two Area System without WADC.IntPrj\\Network Model.IntPrjfolder\\Network Data.IntPrjfolder\\Grid.ElmNet\\Sub 04.ElmSubstat\\3.ElmTerm</l3>\n<l3>\\Miguel.IntUser\\2 Two Area System without WADC.IntPrj\\Network Model.IntPrjfolder\\Network Data.IntPrjfolder\\Grid.ElmNet\\Sub 04.ElmSubstat\\4.ElmTerm</l3>\n<l3>\\Miguel.IntUser\\2 Two Area System without WADC.IntPrj\\Network Model.IntPrjfolder\\Network Data.IntPrjfolder\\Grid.ElmNet\\Sub 04.ElmSubstat\\B04.ElmTerm</l3>\n<l3>\\Miguel.IntUser\\2 Two Area System without WADC.IntPrj\\Network Model.IntPrjfolder\\Network Data.IntPrjfolder\\Grid.ElmNet\\Sub 04.ElmSubstat\\T1.1.ElmTerm</l3>\n<l3>\\Miguel.IntUser\\2 Two Area System without WADC.IntPrj\\Network Model.IntPrjfolder\\Network Data.IntPrjfolder\\Grid.ElmNet\\Sub 04.ElmSubstat\\T1.2.ElmTerm</l3>\n<l3>\\Miguel.IntUser\\2 Two Area System without WADC.IntPrj\\Network Model.IntPrjfolder\\Network Data.IntPrjfolder\\Grid.ElmNet\\Sub 04.ElmSubstat\\T1.3.ElmTerm</l3>\n<l3>\\Miguel.IntUser\\2 Two Area System without WADC.IntPrj\\Network Model.IntPrjfolder\\Network Data.IntPrjfolder\\Grid.ElmNet\\Sub 04.ElmSubstat\\T1.4.ElmTerm</l3>\n<l3>\\Miguel.IntUser\\2 Two Area System without WADC.IntPrj\\Network Model.IntPrjfolder\\Network Data.IntPrjfolder\\Grid.ElmNet\\Sub 04.ElmSubstat\\T2.1.ElmTerm</l3>\n<l3>\\Miguel.IntUser\\2 Two Area System without WADC.IntPrj\\Network Model.IntPrjfolder\\Network Data.IntPrjfolder\\Grid.ElmNet\\Sub 04.ElmSubstat\\T2.2.ElmTerm</l3>\n<l3>\\Miguel.IntUser\\2 Two Area System without WADC.IntPrj\\Network Model.IntPrjfolder\\Network Data.IntPrjfolder\\Grid.ElmNet\\Sub 04.ElmSubstat\\T2.3.ElmTerm</l3>\n<l3>\\Miguel.IntUser\\2 Two Area System without WADC.IntPrj\\Network Model.IntPrjfolder\\Network Data.IntPrjfolder\\Grid.ElmNet\\Sub 04.ElmSubstat\\T2.4.ElmTerm</l3>\n"
     ]
    }
   ],
   "source": [
    "Substat  = {k.loc_name:k for k in app.GetCalcRelevantObjects(\"*.ElmSubstat\")}\n",
    "\n",
    "for k in Substat:\n",
    "  print(k,)\n",
    "  for k1 in Substat[k].GetChildren(1):\n",
    "      print(str(k1))\n"
   ]
  }
 ]
}